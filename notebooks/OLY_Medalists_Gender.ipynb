{
 "cells": [
  {
   "cell_type": "code",
   "execution_count": null,
   "id": "ca1f1db3",
   "metadata": {},
   "outputs": [],
   "source": [
    "import pandas as pd\n",
    "import numpy as np\n",
    "import matplotlib.pyplot as plt\n",
    "import seaborn as sns"
   ]
  },
  {
   "cell_type": "code",
   "execution_count": null,
   "id": "5cc13451",
   "metadata": {},
   "outputs": [],
   "source": [
    "%matplotlib inline"
   ]
  },
  {
   "cell_type": "code",
   "execution_count": null,
   "id": "7ff918a8",
   "metadata": {},
   "outputs": [],
   "source": [
    "import re"
   ]
  },
  {
   "cell_type": "code",
   "execution_count": null,
   "id": "2e18b7af",
   "metadata": {},
   "outputs": [],
   "source": [
    "#oly_medalists = pd.read_excel(\"../spreadsheets/Olympic_TF_Medalists.xls\")"
   ]
  },
  {
   "cell_type": "code",
   "execution_count": null,
   "id": "234a271e",
   "metadata": {},
   "outputs": [],
   "source": [
    "oly_medalists.head()"
   ]
  },
  {
   "cell_type": "markdown",
   "id": "a752b4ed",
   "metadata": {},
   "source": [
    "Lets make a dataframe for the male medalists"
   ]
  },
  {
   "cell_type": "code",
   "execution_count": null,
   "id": "d87cc4ae",
   "metadata": {},
   "outputs": [],
   "source": [
    "male_medalists = oly_medalists[oly_medalists.Gender == 'M']"
   ]
  },
  {
   "cell_type": "code",
   "execution_count": null,
   "id": "4ca771e5",
   "metadata": {},
   "outputs": [],
   "source": [
    "male_medalists.head()"
   ]
  },
  {
   "cell_type": "code",
   "execution_count": null,
   "id": "afbba951",
   "metadata": {},
   "outputs": [],
   "source": [
    "male_medalists.Country.value_counts()"
   ]
  },
  {
   "cell_type": "markdown",
   "id": "d53505ed",
   "metadata": {},
   "source": [
    "Lets make a dataframe of the male medalist by country"
   ]
  },
  {
   "cell_type": "code",
   "execution_count": null,
   "id": "df0c088b",
   "metadata": {},
   "outputs": [],
   "source": [
    "male_medalists_ctry = pd.DataFrame(male_medalists.Country.value_counts().reset_index())"
   ]
  },
  {
   "cell_type": "code",
   "execution_count": null,
   "id": "e6740cb9",
   "metadata": {},
   "outputs": [],
   "source": [
    "male_medalists_ctry.head()"
   ]
  },
  {
   "cell_type": "code",
   "execution_count": null,
   "id": "aa4182fe",
   "metadata": {},
   "outputs": [],
   "source": [
    "male_medalists_ctry.columns = ['Country', 'Medals']"
   ]
  },
  {
   "cell_type": "code",
   "execution_count": null,
   "id": "0c9533df",
   "metadata": {},
   "outputs": [],
   "source": [
    "male_medalists_ctry.head()"
   ]
  },
  {
   "cell_type": "code",
   "execution_count": null,
   "id": "f2514b36",
   "metadata": {},
   "outputs": [],
   "source": [
    "plt.bar(male_medalists_ctry.Country.nlargest(5), male_medalists_ctry.Medals)\n",
    "plt.title('Top 5 Male Olympic Track & Field Medals By Country')\n",
    "plt.xlabel('Counrty')\n",
    "plt.ylabel('Medals')\n",
    "plt.show()"
   ]
  },
  {
   "cell_type": "markdown",
   "id": "58085362",
   "metadata": {},
   "source": [
    "Let's make a data frame for the Men's 100M"
   ]
  },
  {
   "cell_type": "code",
   "execution_count": null,
   "id": "c858bc74",
   "metadata": {},
   "outputs": [],
   "source": [
    "mens_100 = male_medalists[male_medalists.Event == '100M Men']"
   ]
  },
  {
   "cell_type": "code",
   "execution_count": null,
   "id": "278e6e24",
   "metadata": {},
   "outputs": [],
   "source": [
    "mens_100.head()"
   ]
  },
  {
   "cell_type": "code",
   "execution_count": null,
   "id": "c1daf9e9",
   "metadata": {},
   "outputs": [],
   "source": [
    "mens_100.Country.value_counts()"
   ]
  },
  {
   "cell_type": "code",
   "execution_count": null,
   "id": "e1940b41",
   "metadata": {},
   "outputs": [],
   "source": [
    "men100 = pd.DataFrame(mens_100.Country.value_counts().reset_index())"
   ]
  },
  {
   "cell_type": "code",
   "execution_count": null,
   "id": "69d6ca84",
   "metadata": {},
   "outputs": [],
   "source": [
    "men100.head()"
   ]
  },
  {
   "cell_type": "code",
   "execution_count": null,
   "id": "74b4bc40",
   "metadata": {},
   "outputs": [],
   "source": [
    "men100.columns = ['Country', 'Medals']"
   ]
  },
  {
   "cell_type": "code",
   "execution_count": null,
   "id": "0b816fdf",
   "metadata": {},
   "outputs": [],
   "source": [
    "men100.head()"
   ]
  },
  {
   "cell_type": "code",
   "execution_count": null,
   "id": "de4437df",
   "metadata": {},
   "outputs": [],
   "source": [
    "plt.bar(men100.Country.nlargest(5), men100.Medals)\n",
    "plt.title('Top 5 Olympic Track & Field 100M Medalists By Country')\n",
    "plt.xlabel('Counrty')\n",
    "plt.ylabel('Medals')\n",
    "plt.show()"
   ]
  },
  {
   "cell_type": "markdown",
   "id": "f3af7a46",
   "metadata": {},
   "source": [
    "Let's find out how many medalists Ran Sub-10 for the 100M"
   ]
  },
  {
   "cell_type": "code",
   "execution_count": null,
   "id": "0df181b2",
   "metadata": {},
   "outputs": [],
   "source": [
    "print(mens_100.Result < 10)"
   ]
  },
  {
   "cell_type": "code",
   "execution_count": null,
   "id": "a93d7a78",
   "metadata": {},
   "outputs": [],
   "source": [
    "Sub10_Men = mens_100.Result < 10"
   ]
  },
  {
   "cell_type": "code",
   "execution_count": null,
   "id": "0b4a986d",
   "metadata": {},
   "outputs": [],
   "source": [
    "Sub10_Men.value_counts()"
   ]
  },
  {
   "cell_type": "markdown",
   "id": "cff41d70",
   "metadata": {},
   "source": [
    "Let's make a dataframe for this to import into excel later"
   ]
  },
  {
   "cell_type": "code",
   "execution_count": null,
   "id": "ba9dc8e3",
   "metadata": {},
   "outputs": [],
   "source": [
    "Sub_10 = pd.DataFrame(Sub10_Men.value_counts().reset_index())"
   ]
  },
  {
   "cell_type": "code",
   "execution_count": null,
   "id": "dab7b6e5",
   "metadata": {},
   "outputs": [],
   "source": [
    "Sub_10.head()"
   ]
  },
  {
   "cell_type": "code",
   "execution_count": null,
   "id": "5e7720d0",
   "metadata": {},
   "outputs": [],
   "source": [
    "Sub_10.columns = ['True', 'False']"
   ]
  },
  {
   "cell_type": "code",
   "execution_count": null,
   "id": "8ec37721",
   "metadata": {},
   "outputs": [],
   "source": [
    "Sub_10.head()"
   ]
  },
  {
   "cell_type": "markdown",
   "id": "9d73cc4f",
   "metadata": {},
   "source": [
    "Let's make a dataframe for the Men's 100 Gold Medalists"
   ]
  },
  {
   "cell_type": "code",
   "execution_count": null,
   "id": "ebbe9c7f",
   "metadata": {},
   "outputs": [],
   "source": [
    "Mens_100G = mens_100[mens_100.Medal == 'G']"
   ]
  },
  {
   "cell_type": "code",
   "execution_count": null,
   "id": "e3e74775",
   "metadata": {},
   "outputs": [],
   "source": [
    "Mens_100G.head()"
   ]
  },
  {
   "cell_type": "code",
   "execution_count": null,
   "id": "5a9da10a",
   "metadata": {},
   "outputs": [],
   "source": [
    "Mens_100G.plot.line(x='Year',\n",
    "                    y=\"Result\",\n",
    "                    xlabel = 'Year',\n",
    "                    ylabel = 'Winning',\n",
    "                    title = 'Winning time for the Mens Olympic 100M',\n",
    "                    figsize = (10,5),\n",
    "                    colormap ='viridis',\n",
    "                    color=['#3B528B'],\n",
    "                    grid = True,\n",
    "                    xlim = (0,32),\n",
    "                    ylim = (0, 110),\n",
    "                    xticks = [0,1,2,3,4,5,6,7,8,9,10,11,12,13,14,15,16,17,18,19,20,21,22,23,24,25,26,27,28,29,30,31,32],\n",
    "                    yticks = [0,10,20,30,40,50,60,70,80,90,100,110],\n",
    "                    linewidth=4)\n",
    "                              \n",
    "plt.legend(loc = \"lower right\")"
   ]
  },
  {
   "cell_type": "markdown",
   "id": "fb343a6e",
   "metadata": {},
   "source": [
    "Let's make a dataframe for this to import into excel later"
   ]
  },
  {
   "cell_type": "code",
   "execution_count": null,
   "id": "00fb7b70",
   "metadata": {},
   "outputs": [],
   "source": [
    "M100G = pd.DataFrame(Mens_100G)"
   ]
  },
  {
   "cell_type": "code",
   "execution_count": null,
   "id": "c66e8509",
   "metadata": {},
   "outputs": [],
   "source": [
    "M100G.head()"
   ]
  },
  {
   "cell_type": "markdown",
   "id": "4f3680e0",
   "metadata": {},
   "source": [
    "Let's find out how many gold medalists Ran Sub-10 for the 100M"
   ]
  },
  {
   "cell_type": "code",
   "execution_count": null,
   "id": "4cb52001",
   "metadata": {},
   "outputs": [],
   "source": [
    "print(Mens_100G.Result < 10)"
   ]
  },
  {
   "cell_type": "code",
   "execution_count": null,
   "id": "9637f8cb",
   "metadata": {},
   "outputs": [],
   "source": [
    "Sub10_MenG = Mens_100G.Result < 10"
   ]
  },
  {
   "cell_type": "code",
   "execution_count": null,
   "id": "ef008f50",
   "metadata": {},
   "outputs": [],
   "source": [
    "Sub10_MenG.value_counts()"
   ]
  },
  {
   "cell_type": "markdown",
   "id": "9ed87295",
   "metadata": {},
   "source": [
    "Let's make a dataframe for this to import into excel later"
   ]
  },
  {
   "cell_type": "code",
   "execution_count": null,
   "id": "2dc5b642",
   "metadata": {},
   "outputs": [],
   "source": [
    "Sub_10G = pd.DataFrame(Sub10_MenG.value_counts().reset_index())"
   ]
  },
  {
   "cell_type": "code",
   "execution_count": null,
   "id": "f2c83667",
   "metadata": {},
   "outputs": [],
   "source": [
    "Sub_10G.head()"
   ]
  },
  {
   "cell_type": "code",
   "execution_count": null,
   "id": "39e84805",
   "metadata": {},
   "outputs": [],
   "source": [
    "Sub_10G.columns = ['True', 'False']"
   ]
  },
  {
   "cell_type": "code",
   "execution_count": null,
   "id": "fef210f8",
   "metadata": {},
   "outputs": [],
   "source": [
    "Sub_10G.head()"
   ]
  },
  {
   "cell_type": "markdown",
   "id": "debbcab3",
   "metadata": {},
   "source": [
    "Let's make a data frame for the Men's 400M Hurdles"
   ]
  },
  {
   "cell_type": "code",
   "execution_count": null,
   "id": "1543a785",
   "metadata": {},
   "outputs": [],
   "source": [
    "mens_400H = male_medalists[male_medalists.Event == '400M Hurdles Men']"
   ]
  },
  {
   "cell_type": "code",
   "execution_count": null,
   "id": "fe0c0e97",
   "metadata": {},
   "outputs": [],
   "source": [
    "mens_400H.head()"
   ]
  },
  {
   "cell_type": "code",
   "execution_count": null,
   "id": "75208491",
   "metadata": {},
   "outputs": [],
   "source": [
    "mens_400H.Country.value_counts()"
   ]
  },
  {
   "cell_type": "code",
   "execution_count": null,
   "id": "2d660f15",
   "metadata": {},
   "outputs": [],
   "source": [
    "M400H = pd.DataFrame(mens_400H.Country.value_counts().reset_index())"
   ]
  },
  {
   "cell_type": "code",
   "execution_count": null,
   "id": "ef455bd6",
   "metadata": {},
   "outputs": [],
   "source": [
    "M400H.head()"
   ]
  },
  {
   "cell_type": "code",
   "execution_count": null,
   "id": "b1c2806d",
   "metadata": {},
   "outputs": [],
   "source": [
    "M400H.columns = ['Country', 'Medals']"
   ]
  },
  {
   "cell_type": "code",
   "execution_count": null,
   "id": "873bd167",
   "metadata": {},
   "outputs": [],
   "source": [
    "M400H.head()"
   ]
  },
  {
   "cell_type": "markdown",
   "id": "85158e70",
   "metadata": {},
   "source": [
    "Dataframe for the Men's 400M Hurdles Gold Medalists"
   ]
  },
  {
   "cell_type": "code",
   "execution_count": null,
   "id": "c766bcd4",
   "metadata": {},
   "outputs": [],
   "source": [
    "Mens_400HG = mens_400H[mens_400H.Medal == 'G']"
   ]
  },
  {
   "cell_type": "code",
   "execution_count": null,
   "id": "7d31ce06",
   "metadata": {},
   "outputs": [],
   "source": [
    "Mens_400HG.head()"
   ]
  },
  {
   "cell_type": "code",
   "execution_count": null,
   "id": "70bad670",
   "metadata": {},
   "outputs": [],
   "source": [
    "Mens_400HG.plot.line(x='Year',\n",
    "                    y=\"Result\",\n",
    "                    xlabel = 'Year',\n",
    "                    ylabel = 'Winning',\n",
    "                    title = 'Winning time for the Mens Olympic 100M',\n",
    "                    figsize = (10,5),\n",
    "                    colormap ='viridis',\n",
    "                    color=['#3B528B'],\n",
    "                    grid = True,\n",
    "                    xlim = (0,32),\n",
    "                    ylim = (0, 110),\n",
    "                    xticks = [0,1,2,3,4,5,6,7,8,9,10,11,12,13,14,15,16,17,18,19,20,21,22,23,24,25,26,27,28,29,30,31,32],\n",
    "                    yticks = [0,10,20,30,40,50,60,70,80,90,100,110],\n",
    "                    linewidth=4)\n",
    "                              \n",
    "plt.legend(loc = \"lower right\")"
   ]
  },
  {
   "cell_type": "markdown",
   "id": "268d3584",
   "metadata": {},
   "source": [
    "Let's make a dataframe for this to import into excel later"
   ]
  },
  {
   "cell_type": "code",
   "execution_count": null,
   "id": "3564dd42",
   "metadata": {},
   "outputs": [],
   "source": [
    "M400HG = pd.DataFrame(Mens_400HG)"
   ]
  },
  {
   "cell_type": "code",
   "execution_count": null,
   "id": "7ef9e853",
   "metadata": {},
   "outputs": [],
   "source": [
    "M400HG.head()"
   ]
  },
  {
   "cell_type": "code",
   "execution_count": null,
   "id": "3b422fc8",
   "metadata": {},
   "outputs": [],
   "source": [
    "Let's make a data frame for the Men's 1500M"
   ]
  },
  {
   "cell_type": "code",
   "execution_count": null,
   "id": "c10209e6",
   "metadata": {},
   "outputs": [],
   "source": [
    "mens_1500 = male_medalists[male_medalists.Event == '1500M Men']"
   ]
  },
  {
   "cell_type": "code",
   "execution_count": null,
   "id": "ac245a08",
   "metadata": {},
   "outputs": [],
   "source": [
    "mens_1500.head()"
   ]
  },
  {
   "cell_type": "code",
   "execution_count": null,
   "id": "4013c659",
   "metadata": {},
   "outputs": [],
   "source": [
    "mens_1500.Country.value_counts()"
   ]
  },
  {
   "cell_type": "code",
   "execution_count": null,
   "id": "c43bca73",
   "metadata": {},
   "outputs": [],
   "source": [
    "M1500 = pd.DataFrame(mens_1500.Country.value_counts().reset_index())"
   ]
  },
  {
   "cell_type": "code",
   "execution_count": null,
   "id": "780ed59d",
   "metadata": {},
   "outputs": [],
   "source": [
    "M1500.head()"
   ]
  },
  {
   "cell_type": "code",
   "execution_count": null,
   "id": "d1d57648",
   "metadata": {},
   "outputs": [],
   "source": [
    "M1500.columns = ['Country', 'Medals']"
   ]
  },
  {
   "cell_type": "code",
   "execution_count": null,
   "id": "22376b82",
   "metadata": {},
   "outputs": [],
   "source": [
    "M1500.head()"
   ]
  },
  {
   "cell_type": "markdown",
   "id": "311c3886",
   "metadata": {},
   "source": [
    "Dataframe for the Men's 1500M Hurdles Gold Medalists"
   ]
  },
  {
   "cell_type": "code",
   "execution_count": null,
   "id": "0e92ade9",
   "metadata": {},
   "outputs": [],
   "source": [
    "Mens_1500G = mens_1500[mens_1500.Medal == 'G']"
   ]
  },
  {
   "cell_type": "code",
   "execution_count": null,
   "id": "47147d24",
   "metadata": {},
   "outputs": [],
   "source": [
    "Mens_1500G.head()"
   ]
  },
  {
   "cell_type": "code",
   "execution_count": null,
   "id": "1c705996",
   "metadata": {},
   "outputs": [],
   "source": [
    "Mens_1500G.plot.line(x='Year',\n",
    "                    y=\"Result\",\n",
    "                    xlabel = 'Year',\n",
    "                    ylabel = 'Winning',\n",
    "                    title = 'Winning time for the Mens Olympic 100M',\n",
    "                    figsize = (10,5),\n",
    "                    colormap ='viridis',\n",
    "                    color=['#3B528B'],\n",
    "                    grid = True,\n",
    "                    xlim = (0,32),\n",
    "                    ylim = (0, 110),\n",
    "                    xticks = [0,1,2,3,4,5,6,7,8,9,10,11,12,13,14,15,16,17,18,19,20,21,22,23,24,25,26,27,28,29,30,31,32],\n",
    "                    yticks = [0,10,20,30,40,50,60,70,80,90,100,110],\n",
    "                    linewidth=4)\n",
    "                              \n",
    "plt.legend(loc = \"lower right\")"
   ]
  },
  {
   "cell_type": "markdown",
   "id": "189ff1b2",
   "metadata": {},
   "source": [
    "Let's make a dataframe for this to import into excel later"
   ]
  },
  {
   "cell_type": "code",
   "execution_count": null,
   "id": "73a5f72b",
   "metadata": {},
   "outputs": [],
   "source": [
    "M1500G = pd.DataFrame(Mens_1500G)"
   ]
  },
  {
   "cell_type": "code",
   "execution_count": null,
   "id": "04fef33d",
   "metadata": {},
   "outputs": [],
   "source": [
    "M1500G.head()"
   ]
  },
  {
   "cell_type": "markdown",
   "id": "129ec2e0",
   "metadata": {},
   "source": [
    "Let's make a data frame for the Men's Marathon"
   ]
  },
  {
   "cell_type": "code",
   "execution_count": null,
   "id": "e1bea088",
   "metadata": {},
   "outputs": [],
   "source": [
    "mens_marathon = male_medalists[male_medalists.Event == 'Marathon Men']  "
   ]
  },
  {
   "cell_type": "code",
   "execution_count": null,
   "id": "3a4fc95f",
   "metadata": {},
   "outputs": [],
   "source": [
    "mens_marathon.head()"
   ]
  },
  {
   "cell_type": "code",
   "execution_count": null,
   "id": "e0415fe7",
   "metadata": {},
   "outputs": [],
   "source": [
    "mens_marathon.Country.value_counts()"
   ]
  },
  {
   "cell_type": "code",
   "execution_count": null,
   "id": "9e15a96b",
   "metadata": {},
   "outputs": [],
   "source": [
    "M_Marathon = pd.DataFrame(mens_marathon.Country.value_counts().reset_index())"
   ]
  },
  {
   "cell_type": "code",
   "execution_count": null,
   "id": "3fdc1b10",
   "metadata": {},
   "outputs": [],
   "source": [
    "M_Marathon.head()"
   ]
  },
  {
   "cell_type": "code",
   "execution_count": null,
   "id": "829f33b9",
   "metadata": {},
   "outputs": [],
   "source": [
    "M_Marathon.columns = ['Country', 'Medals']"
   ]
  },
  {
   "cell_type": "code",
   "execution_count": null,
   "id": "a601bb1a",
   "metadata": {},
   "outputs": [],
   "source": [
    "M_Marathon.head()"
   ]
  },
  {
   "cell_type": "markdown",
   "id": "92ce18b9",
   "metadata": {},
   "source": [
    "Dataframe for the Men's Marathon Gold Medalists"
   ]
  },
  {
   "cell_type": "code",
   "execution_count": null,
   "id": "bef350b0",
   "metadata": {},
   "outputs": [],
   "source": [
    "Mens_MarathonG = mens_marathon[mens_marathon.Medal == 'G']"
   ]
  },
  {
   "cell_type": "code",
   "execution_count": null,
   "id": "6c9a0a08",
   "metadata": {},
   "outputs": [],
   "source": [
    "Mens_MarathonG.head()"
   ]
  },
  {
   "cell_type": "code",
   "execution_count": null,
   "id": "24aa8425",
   "metadata": {},
   "outputs": [],
   "source": [
    "Mens_MarathonG.plot.line(x='Year',\n",
    "                    y=\"Result\",\n",
    "                    xlabel = 'Year',\n",
    "                    ylabel = 'Winning',\n",
    "                    title = 'Winning time for the Mens Olympic 100M',\n",
    "                    figsize = (10,5),\n",
    "                    colormap ='viridis',\n",
    "                    color=['#3B528B'],\n",
    "                    grid = True,\n",
    "                    xlim = (0,32),\n",
    "                    ylim = (0, 110),\n",
    "                    xticks = [0,1,2,3,4,5,6,7,8,9,10,11,12,13,14,15,16,17,18,19,20,21,22,23,24,25,26,27,28,29,30,31,32],\n",
    "                    yticks = [0,10,20,30,40,50,60,70,80,90,100,110],\n",
    "                    linewidth=4)\n",
    "                              \n",
    "plt.legend(loc = \"lower right\")"
   ]
  },
  {
   "cell_type": "markdown",
   "id": "b57fe75d",
   "metadata": {},
   "source": [
    "Let's make a dataframe for this to import into excel later"
   ]
  },
  {
   "cell_type": "code",
   "execution_count": null,
   "id": "90a3a7b0",
   "metadata": {},
   "outputs": [],
   "source": [
    "M_MarathonG = pd.DataFrame(Mens_MarathonG)"
   ]
  },
  {
   "cell_type": "code",
   "execution_count": null,
   "id": "8e320612",
   "metadata": {},
   "outputs": [],
   "source": [
    "M_MarathonG.head()"
   ]
  },
  {
   "cell_type": "markdown",
   "id": "d34de54c",
   "metadata": {},
   "source": [
    "Lets make a dataframe for the female medalists"
   ]
  },
  {
   "cell_type": "code",
   "execution_count": null,
   "id": "765fb0fa",
   "metadata": {},
   "outputs": [],
   "source": [
    "female_medalists = oly_medalists[oly_medalists.Gender == 'W']"
   ]
  },
  {
   "cell_type": "code",
   "execution_count": null,
   "id": "84a40fe8",
   "metadata": {},
   "outputs": [],
   "source": [
    "female_medalists.head()"
   ]
  },
  {
   "cell_type": "code",
   "execution_count": null,
   "id": "7d91722b",
   "metadata": {},
   "outputs": [],
   "source": [
    "female_medalists.Country.value_counts()"
   ]
  },
  {
   "cell_type": "markdown",
   "id": "e6622acf",
   "metadata": {},
   "source": [
    "Lets make a dataframe of the female medalist by country"
   ]
  },
  {
   "cell_type": "code",
   "execution_count": null,
   "id": "aa9d957b",
   "metadata": {},
   "outputs": [],
   "source": [
    "female_medalists_ctry = pd.DataFrame(female_medalists.Country.value_counts().reset_index())"
   ]
  },
  {
   "cell_type": "code",
   "execution_count": null,
   "id": "0a66592e",
   "metadata": {},
   "outputs": [],
   "source": [
    "female_medalists_ctry.head()"
   ]
  },
  {
   "cell_type": "code",
   "execution_count": null,
   "id": "efe19b69",
   "metadata": {},
   "outputs": [],
   "source": [
    "female_medalists_ctry.columns = ['Country', 'Medals']"
   ]
  },
  {
   "cell_type": "code",
   "execution_count": null,
   "id": "d9ef729b",
   "metadata": {},
   "outputs": [],
   "source": [
    "female_medalists_ctry.head()"
   ]
  },
  {
   "cell_type": "code",
   "execution_count": null,
   "id": "e8b66640",
   "metadata": {},
   "outputs": [],
   "source": [
    "plt.bar(female_medalists_ctry.Country.nlargest(5), female_medalists_ctry.Medals)\n",
    "plt.title('Top 5 Female Olympic Track & Field Medals By Country')\n",
    "plt.xlabel('Counrty')\n",
    "plt.ylabel('Medals')\n",
    "plt.show()"
   ]
  },
  {
   "cell_type": "markdown",
   "id": "45c1eaed",
   "metadata": {},
   "source": [
    "Let's make a data frame for the Women's 100M Hurdles"
   ]
  },
  {
   "cell_type": "code",
   "execution_count": null,
   "id": "669470d0",
   "metadata": {},
   "outputs": [],
   "source": [
    "womens_100H = female_medalists[male_medalists.Event == '100M Hurdles Women']"
   ]
  },
  {
   "cell_type": "code",
   "execution_count": null,
   "id": "eb7fa4b6",
   "metadata": {},
   "outputs": [],
   "source": [
    "womens_100H.head()"
   ]
  },
  {
   "cell_type": "code",
   "execution_count": null,
   "id": "d69edaa8",
   "metadata": {},
   "outputs": [],
   "source": [
    "womens_100H.Country.value_counts()"
   ]
  },
  {
   "cell_type": "code",
   "execution_count": null,
   "id": "c7cb579a",
   "metadata": {},
   "outputs": [],
   "source": [
    "W100H = pd.DataFrame(womens_100H.Country.value_counts().reset_index())"
   ]
  },
  {
   "cell_type": "code",
   "execution_count": null,
   "id": "c245320b",
   "metadata": {},
   "outputs": [],
   "source": [
    "W100H.head()"
   ]
  },
  {
   "cell_type": "code",
   "execution_count": null,
   "id": "a561d4de",
   "metadata": {},
   "outputs": [],
   "source": [
    "W100H.columns = ['Country', 'Medals']"
   ]
  },
  {
   "cell_type": "code",
   "execution_count": null,
   "id": "56d82f51",
   "metadata": {},
   "outputs": [],
   "source": [
    "W100H.head()"
   ]
  },
  {
   "cell_type": "markdown",
   "id": "73950e15",
   "metadata": {},
   "source": [
    "Dataframe for the Women's 100M Hurdles Gold Medalists"
   ]
  },
  {
   "cell_type": "code",
   "execution_count": null,
   "id": "4dd8a9c4",
   "metadata": {},
   "outputs": [],
   "source": [
    "Womens_100HG = mens_400H[womens_100H.Medal == 'G']"
   ]
  },
  {
   "cell_type": "code",
   "execution_count": null,
   "id": "23f11de6",
   "metadata": {},
   "outputs": [],
   "source": [
    "Womens_100HG.head()"
   ]
  },
  {
   "cell_type": "code",
   "execution_count": null,
   "id": "56defd64",
   "metadata": {},
   "outputs": [],
   "source": [
    "Womens_100HG.plot.line(x='Year',\n",
    "                    y=\"Result\",\n",
    "                    xlabel = 'Year',\n",
    "                    ylabel = 'Winning',\n",
    "                    title = 'Winning time for the Mens Olympic 100M',\n",
    "                    figsize = (10,5),\n",
    "                    colormap ='viridis',\n",
    "                    color=['#3B528B'],\n",
    "                    grid = True,\n",
    "                    xlim = (0,32),\n",
    "                    ylim = (0, 110),\n",
    "                    xticks = [0,1,2,3,4,5,6,7,8,9,10,11,12,13,14,15,16,17,18,19,20,21,22,23,24,25,26,27,28,29,30,31,32],\n",
    "                    yticks = [0,10,20,30,40,50,60,70,80,90,100,110],\n",
    "                    linewidth=4)\n",
    "                              \n",
    "plt.legend(loc = \"lower right\")"
   ]
  },
  {
   "cell_type": "markdown",
   "id": "13c5760d",
   "metadata": {},
   "source": [
    "Let's make a dataframe for this to import into excel later"
   ]
  },
  {
   "cell_type": "code",
   "execution_count": null,
   "id": "e0360d75",
   "metadata": {},
   "outputs": [],
   "source": [
    "W100HG = pd.DataFrame(Womens_100HG)"
   ]
  },
  {
   "cell_type": "code",
   "execution_count": null,
   "id": "a93371ff",
   "metadata": {},
   "outputs": [],
   "source": [
    "W400HG.head()"
   ]
  },
  {
   "cell_type": "markdown",
   "id": "47caea93",
   "metadata": {},
   "source": [
    "Let's make a data frame for the Women's 400M Hurdles"
   ]
  },
  {
   "cell_type": "code",
   "execution_count": null,
   "id": "4aac13dc",
   "metadata": {},
   "outputs": [],
   "source": [
    "womens_400H = female_medalists[male_medalists.Event == '400M Hurdles Women']"
   ]
  },
  {
   "cell_type": "code",
   "execution_count": null,
   "id": "81c33fd0",
   "metadata": {},
   "outputs": [],
   "source": [
    "womens_400H.head()"
   ]
  },
  {
   "cell_type": "code",
   "execution_count": null,
   "id": "c7e37e4a",
   "metadata": {},
   "outputs": [],
   "source": [
    "womens_400H.Country.value_counts()"
   ]
  },
  {
   "cell_type": "code",
   "execution_count": null,
   "id": "3efc985a",
   "metadata": {},
   "outputs": [],
   "source": [
    "W400H = pd.DataFrame(womens_400H.Country.value_counts().reset_index())"
   ]
  },
  {
   "cell_type": "code",
   "execution_count": null,
   "id": "b0e7dba3",
   "metadata": {},
   "outputs": [],
   "source": [
    "W400H.head()"
   ]
  },
  {
   "cell_type": "code",
   "execution_count": null,
   "id": "4a8194cb",
   "metadata": {},
   "outputs": [],
   "source": [
    "W400H.columns = ['Country', 'Medals']"
   ]
  },
  {
   "cell_type": "code",
   "execution_count": null,
   "id": "d3ceb083",
   "metadata": {},
   "outputs": [],
   "source": [
    "W400H.head()"
   ]
  },
  {
   "cell_type": "markdown",
   "id": "07f9732e",
   "metadata": {},
   "source": [
    "Dataframe for the Women's 400M Hurdles Gold Medalists"
   ]
  },
  {
   "cell_type": "code",
   "execution_count": null,
   "id": "cf3070aa",
   "metadata": {},
   "outputs": [],
   "source": [
    "Womens_400HG = mens_400H[womens_400H.Medal == 'G']"
   ]
  },
  {
   "cell_type": "code",
   "execution_count": null,
   "id": "6211905d",
   "metadata": {},
   "outputs": [],
   "source": [
    "Womens_400HG.head()"
   ]
  },
  {
   "cell_type": "code",
   "execution_count": null,
   "id": "2fd76b6a",
   "metadata": {},
   "outputs": [],
   "source": [
    "Womens_400HG.plot.line(x='Year',\n",
    "                    y=\"Result\",\n",
    "                    xlabel = 'Year',\n",
    "                    ylabel = 'Winning',\n",
    "                    title = 'Winning time for the Mens Olympic 100M',\n",
    "                    figsize = (10,5),\n",
    "                    colormap ='viridis',\n",
    "                    color=['#3B528B'],\n",
    "                    grid = True,\n",
    "                    xlim = (0,32),\n",
    "                    ylim = (0, 110),\n",
    "                    xticks = [0,1,2,3,4,5,6,7,8,9,10,11,12,13,14,15,16,17,18,19,20,21,22,23,24,25,26,27,28,29,30,31,32],\n",
    "                    yticks = [0,10,20,30,40,50,60,70,80,90,100,110],\n",
    "                    linewidth=4)\n",
    "                              \n",
    "plt.legend(loc = \"lower right\")"
   ]
  },
  {
   "cell_type": "markdown",
   "id": "f5ab798a",
   "metadata": {},
   "source": [
    "Let's make a dataframe for this to import into excel later"
   ]
  },
  {
   "cell_type": "code",
   "execution_count": null,
   "id": "dc97996a",
   "metadata": {},
   "outputs": [],
   "source": [
    "W400HG = pd.DataFrame(Womens_400HG)"
   ]
  },
  {
   "cell_type": "code",
   "execution_count": null,
   "id": "d773be36",
   "metadata": {},
   "outputs": [],
   "source": [
    "W400HG.head()"
   ]
  },
  {
   "cell_type": "markdown",
   "id": "2ecaa6e4",
   "metadata": {},
   "source": [
    "Let's make a data frame for the Women's Marathon"
   ]
  },
  {
   "cell_type": "code",
   "execution_count": null,
   "id": "3ac051e6",
   "metadata": {},
   "outputs": [],
   "source": [
    "womens_marathon = female_medalists[female_medalists.Event == 'Marathon Women']  "
   ]
  },
  {
   "cell_type": "code",
   "execution_count": null,
   "id": "8e508567",
   "metadata": {},
   "outputs": [],
   "source": [
    "womens_marathon.head()"
   ]
  },
  {
   "cell_type": "code",
   "execution_count": null,
   "id": "5985427f",
   "metadata": {},
   "outputs": [],
   "source": [
    "womens_marathon.Country.value_counts()"
   ]
  },
  {
   "cell_type": "code",
   "execution_count": null,
   "id": "1fb17208",
   "metadata": {},
   "outputs": [],
   "source": [
    "W_Marathon= pd.DataFrame(womens_marathon.Country.value_counts().reset_index())"
   ]
  },
  {
   "cell_type": "code",
   "execution_count": null,
   "id": "7c602481",
   "metadata": {},
   "outputs": [],
   "source": [
    "W_Marathon.head()"
   ]
  },
  {
   "cell_type": "code",
   "execution_count": null,
   "id": "90d6fa0c",
   "metadata": {},
   "outputs": [],
   "source": [
    "W_Marathon.columns = ['Country', 'Medals']"
   ]
  },
  {
   "cell_type": "code",
   "execution_count": null,
   "id": "7653a20e",
   "metadata": {},
   "outputs": [],
   "source": [
    "W_Marathon.head()"
   ]
  },
  {
   "cell_type": "markdown",
   "id": "9b527831",
   "metadata": {},
   "source": [
    "Dataframe for the Women's Marathon Gold Medalists"
   ]
  },
  {
   "cell_type": "code",
   "execution_count": null,
   "id": "becdb75f",
   "metadata": {},
   "outputs": [],
   "source": [
    "Womens_MarathonG = womens_marathon[womens_marathon.Medal == 'G']"
   ]
  },
  {
   "cell_type": "code",
   "execution_count": null,
   "id": "03dd9070",
   "metadata": {},
   "outputs": [],
   "source": [
    "Womens_MarathonG.head()"
   ]
  },
  {
   "cell_type": "code",
   "execution_count": null,
   "id": "5fdb0b58",
   "metadata": {},
   "outputs": [],
   "source": [
    "Womens_MarathonG.plot.line(x='Year',\n",
    "                    y=\"Result\",\n",
    "                    xlabel = 'Year',\n",
    "                    ylabel = 'Winning',\n",
    "                    title = 'Winning time for the Mens Olympic 100M',\n",
    "                    figsize = (10,5),\n",
    "                    colormap ='viridis',\n",
    "                    color=['#3B528B'],\n",
    "                    grid = True,\n",
    "                    xlim = (0,32),\n",
    "                    ylim = (0, 110),\n",
    "                    xticks = [0,1,2,3,4,5,6,7,8,9,10,11,12,13,14,15,16,17,18,19,20,21,22,23,24,25,26,27,28,29,30,31,32],\n",
    "                    yticks = [0,10,20,30,40,50,60,70,80,90,100,110],\n",
    "                    linewidth=4)\n",
    "                              \n",
    "plt.legend(loc = \"lower right\")"
   ]
  },
  {
   "cell_type": "markdown",
   "id": "cad481cd",
   "metadata": {},
   "source": [
    "Let's make a dataframe for this to import into excel later"
   ]
  },
  {
   "cell_type": "code",
   "execution_count": null,
   "id": "21c02f69",
   "metadata": {},
   "outputs": [],
   "source": [
    "W_MarathonG = pd.DataFrame(Womens_MarathonG)"
   ]
  },
  {
   "cell_type": "code",
   "execution_count": null,
   "id": "e17266d2",
   "metadata": {},
   "outputs": [],
   "source": [
    "W_MarathonG.head"
   ]
  },
  {
   "cell_type": "markdown",
   "id": "2782d18b",
   "metadata": {},
   "source": [
    "Let's make a data frame for the Women's Pole Vault"
   ]
  },
  {
   "cell_type": "code",
   "execution_count": null,
   "id": "5bf4e8fd",
   "metadata": {},
   "outputs": [],
   "source": [
    "womens_pv = female_medalists[female_medalists.Event == 'Pole Vault Women']  "
   ]
  },
  {
   "cell_type": "code",
   "execution_count": null,
   "id": "cb7e163c",
   "metadata": {},
   "outputs": [],
   "source": [
    "womens_pv.head()"
   ]
  },
  {
   "cell_type": "code",
   "execution_count": null,
   "id": "52cf9548",
   "metadata": {},
   "outputs": [],
   "source": [
    "womens_pv.Country.value_counts()"
   ]
  },
  {
   "cell_type": "code",
   "execution_count": null,
   "id": "e0354cdb",
   "metadata": {},
   "outputs": [],
   "source": [
    "WPV = pd.DataFrame(womens_pv.Country.value_counts().reset_index())"
   ]
  },
  {
   "cell_type": "code",
   "execution_count": null,
   "id": "93d81468",
   "metadata": {},
   "outputs": [],
   "source": [
    "WPV.head()"
   ]
  },
  {
   "cell_type": "code",
   "execution_count": null,
   "id": "262fa60d",
   "metadata": {},
   "outputs": [],
   "source": [
    "WPV.columns = ['Country', 'Medals']"
   ]
  },
  {
   "cell_type": "code",
   "execution_count": null,
   "id": "c589b302",
   "metadata": {},
   "outputs": [],
   "source": [
    "WPV.head()"
   ]
  },
  {
   "cell_type": "markdown",
   "id": "4823dc15",
   "metadata": {},
   "source": [
    "Dataframe for the Women's Pole Vault Gold Medalists"
   ]
  },
  {
   "cell_type": "code",
   "execution_count": null,
   "id": "62bb7a10",
   "metadata": {},
   "outputs": [],
   "source": [
    "Womens_PVG = womens_pv[womens_pv.Medal == 'G']"
   ]
  },
  {
   "cell_type": "code",
   "execution_count": null,
   "id": "edb4954a",
   "metadata": {},
   "outputs": [],
   "source": [
    "Womens_PVG.head()"
   ]
  },
  {
   "cell_type": "code",
   "execution_count": null,
   "id": "7b551bef",
   "metadata": {},
   "outputs": [],
   "source": [
    "Womens_PVG.plot.line(x='Year',\n",
    "                    y=\"Result\",\n",
    "                    xlabel = 'Year',\n",
    "                    ylabel = 'Winning',\n",
    "                    title = 'Winning time for the Mens Olympic 100M',\n",
    "                    figsize = (10,5),\n",
    "                    colormap ='viridis',\n",
    "                    color=['#3B528B'],\n",
    "                    grid = True,\n",
    "                    xlim = (0,32),\n",
    "                    ylim = (0, 110),\n",
    "                    xticks = [0,1,2,3,4,5,6,7,8,9,10,11,12,13,14,15,16,17,18,19,20,21,22,23,24,25,26,27,28,29,30,31,32],\n",
    "                    yticks = [0,10,20,30,40,50,60,70,80,90,100,110],\n",
    "                    linewidth=4)\n",
    "                              \n",
    "plt.legend(loc = \"lower right\")"
   ]
  },
  {
   "cell_type": "markdown",
   "id": "31236700",
   "metadata": {},
   "source": [
    "Let's make a dataframe for this to import into excel later"
   ]
  },
  {
   "cell_type": "code",
   "execution_count": null,
   "id": "d4dcdd35",
   "metadata": {},
   "outputs": [],
   "source": [
    "W_PVG = pd.DataFrame(Womens_PVG)"
   ]
  },
  {
   "cell_type": "code",
   "execution_count": null,
   "id": "49a0e157",
   "metadata": {},
   "outputs": [],
   "source": [
    "W_PVG.head()"
   ]
  },
  {
   "cell_type": "markdown",
   "id": "bc1f36a0",
   "metadata": {},
   "source": [
    "Let's make some dataframes into an excel workbook"
   ]
  },
  {
   "cell_type": "code",
   "execution_count": null,
   "id": "3d16a063",
   "metadata": {},
   "outputs": [],
   "source": [
    "#xlwriter = pd.ExcelWriter('Medals_By_Gender.xlsx') \n",
    "#male_medalists_ctry.to_excel(xlwriter, sheet_name='Male_Medalists')\n",
    "#men100.to_excel(xlwriter, sheet_name='Male_100M_Medalists')\n",
    "#Sub_10.to_excel(xlwriter, sheet_name='Male_Sub10_Medalists')\n",
    "#Sub_10G.to_excel(xlwriter, sheet_name='Male_Sub10G_Medalists')\n",
    "#M100G.to_excel(xlwriter, sheet_name='Male_100G_Medalists')\n",
    "#M400H.to_excel(xlwriter, sheet_name='Male_400MH_Medalists')\n",
    "#M400HG.to_excel(xlwriter, sheet_name='Male_400HG_Medalists')\n",
    "#M1500.to_excel(xlwriter, sheet_name='Male_1500M_Medalists')\n",
    "#M1500G.to_excel(xlwriter, sheet_name='Male_1500G_Medalists')\n",
    "#M_Marathon.to_excel(xlwriter, sheet_name='Male_Marathon_Medalists')\n",
    "#M_MarathonG.to_excel(xlwriter, sheet_name='Male_MarathonG_Medalists')\n",
    "#female_medalists_ctry.to_excel(xlwriter, sheet_name='Female_Medalists')\n",
    "#W100H.to_excel(xlwriter, sheet_name='Feale_100MH_Medalists')\n",
    "#W100HG.to_excel(xlwriter, sheet_name='Female_100HG_Medalists')\n",
    "#W400H.to_excel(xlwriter, sheet_name='Feale_400MH_Medalists')\n",
    "#W400HG.to_excel(xlwriter, sheet_name='Female_400HG_Medalists')\n",
    "#W_Marathon.to_excel(xlwriter, sheet_name='Female_Marathon_Medalists')\n",
    "#W_MarathonG.to_excel(xlwriter, sheet_name='Female_MarathonG_Medalists')\n",
    "#WPV.to_excel(xlwriter, sheet_name='Female_PV_Medalists')\n",
    "#W_PVG.to_excel(xlwriter, sheet_name='Female_PVG_Medalists')\n",
    "#xlwriter.close()"
   ]
  }
 ],
 "metadata": {
  "kernelspec": {
   "display_name": "Python 3 (ipykernel)",
   "language": "python",
   "name": "python3"
  },
  "language_info": {
   "codemirror_mode": {
    "name": "ipython",
    "version": 3
   },
   "file_extension": ".py",
   "mimetype": "text/x-python",
   "name": "python",
   "nbconvert_exporter": "python",
   "pygments_lexer": "ipython3",
   "version": "3.9.7"
  }
 },
 "nbformat": 4,
 "nbformat_minor": 5
}
