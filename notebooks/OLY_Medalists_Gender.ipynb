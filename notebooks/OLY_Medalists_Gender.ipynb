{
 "cells": [
  {
   "cell_type": "code",
   "execution_count": null,
   "id": "ca1f1db3",
   "metadata": {},
   "outputs": [],
   "source": [
    "import pandas as pd\n",
    "import numpy as np\n",
    "import matplotlib.pyplot as plt\n",
    "import seaborn as sns"
   ]
  },
  {
   "cell_type": "code",
   "execution_count": null,
   "id": "5cc13451",
   "metadata": {},
   "outputs": [],
   "source": [
    "%matplotlib inline"
   ]
  },
  {
   "cell_type": "code",
   "execution_count": null,
   "id": "7ff918a8",
   "metadata": {},
   "outputs": [],
   "source": [
    "import re"
   ]
  },
  {
   "cell_type": "code",
   "execution_count": null,
   "id": "2e18b7af",
   "metadata": {},
   "outputs": [],
   "source": [
    "#oly_medalists = pd.read_excel(\"../spreadsheets/Olympic_TF_Medalists.xls\")"
   ]
  },
  {
   "cell_type": "code",
   "execution_count": null,
   "id": "234a271e",
   "metadata": {},
   "outputs": [],
   "source": [
    "oly_medalists.head()"
   ]
  },
  {
   "cell_type": "markdown",
   "id": "a752b4ed",
   "metadata": {},
   "source": [
    "Lets make a dataframe for the male medalists"
   ]
  },
  {
   "cell_type": "code",
   "execution_count": null,
   "id": "d87cc4ae",
   "metadata": {},
   "outputs": [],
   "source": [
    "male_medalists = oly_medalists[oly_medalists.Gender == 'M']"
   ]
  },
  {
   "cell_type": "code",
   "execution_count": null,
   "id": "4ca771e5",
   "metadata": {},
   "outputs": [],
   "source": [
    "male_medalists.head()"
   ]
  },
  {
   "cell_type": "code",
   "execution_count": null,
   "id": "afbba951",
   "metadata": {},
   "outputs": [],
   "source": [
    "male_medalists.Country.value_counts()"
   ]
  },
  {
   "cell_type": "markdown",
   "id": "d53505ed",
   "metadata": {},
   "source": [
    "Lets make a dataframe of the male medalist by country"
   ]
  },
  {
   "cell_type": "code",
   "execution_count": null,
   "id": "df0c088b",
   "metadata": {},
   "outputs": [],
   "source": [
    "male_medalists_ctry = pd.DataFrame(male_medalists.Country.value_counts().reset_index())"
   ]
  },
  {
   "cell_type": "code",
   "execution_count": null,
   "id": "e6740cb9",
   "metadata": {},
   "outputs": [],
   "source": [
    "male_medalists_ctry.head()"
   ]
  },
  {
   "cell_type": "code",
   "execution_count": null,
   "id": "aa4182fe",
   "metadata": {},
   "outputs": [],
   "source": [
    "male_medalists_ctry.columns = ['Country', 'Medals']"
   ]
  },
  {
   "cell_type": "code",
   "execution_count": null,
   "id": "0c9533df",
   "metadata": {},
   "outputs": [],
   "source": [
    "male_medalists_ctry.head()"
   ]
  },
  {
   "cell_type": "code",
   "execution_count": null,
   "id": "f2514b36",
   "metadata": {},
   "outputs": [],
   "source": [
    "plt.bar(male_medalists_ctry.Country.nlargest(5), male_medalists_ctry.Medals)\n",
    "plt.title('Top 5 Male Olympic Track & Field Medals By Country')\n",
    "plt.xlabel('Counrty')\n",
    "plt.ylabel('Medals')\n",
    "plt.show()"
   ]
  },
  {
   "cell_type": "markdown",
   "id": "58085362",
   "metadata": {},
   "source": [
    "Let's make a data frame for the Men's 100M"
   ]
  },
  {
   "cell_type": "code",
   "execution_count": null,
   "id": "c858bc74",
   "metadata": {},
   "outputs": [],
   "source": [
    "mens_100 = male_medalists[male_medalists.Event == '100M Men']"
   ]
  },
  {
   "cell_type": "code",
   "execution_count": null,
   "id": "278e6e24",
   "metadata": {},
   "outputs": [],
   "source": [
    "mens_100.head()"
   ]
  },
  {
   "cell_type": "code",
   "execution_count": null,
   "id": "c1daf9e9",
   "metadata": {},
   "outputs": [],
   "source": [
    "mens_100.Country.value_counts()"
   ]
  },
  {
   "cell_type": "code",
   "execution_count": null,
   "id": "e1940b41",
   "metadata": {},
   "outputs": [],
   "source": [
    "men100 = pd.DataFrame(men100.Country.value_counts().reset_index())"
   ]
  },
  {
   "cell_type": "code",
   "execution_count": null,
   "id": "69d6ca84",
   "metadata": {},
   "outputs": [],
   "source": [
    "men100.head()"
   ]
  },
  {
   "cell_type": "code",
   "execution_count": null,
   "id": "74b4bc40",
   "metadata": {},
   "outputs": [],
   "source": [
    "men100.columns = ['Country', 'Medals']"
   ]
  },
  {
   "cell_type": "code",
   "execution_count": null,
   "id": "0b816fdf",
   "metadata": {},
   "outputs": [],
   "source": [
    "men100.head()"
   ]
  },
  {
   "cell_type": "code",
   "execution_count": null,
   "id": "de4437df",
   "metadata": {},
   "outputs": [],
   "source": [
    "plt.bar(men100.Country.nlargest(5), men100.Medals)\n",
    "plt.title('Top 5 Olympic Track & Field 100M Medalists By Country')\n",
    "plt.xlabel('Counrty')\n",
    "plt.ylabel('Medals')\n",
    "plt.show()"
   ]
  },
  {
   "cell_type": "code",
   "execution_count": null,
   "id": "ee2ff785",
   "metadata": {},
   "outputs": [],
   "source": [
    "Let's make a dataframe for the Men's 100 Gold Medalists"
   ]
  },
  {
   "cell_type": "code",
   "execution_count": null,
   "id": "ebbe9c7f",
   "metadata": {},
   "outputs": [],
   "source": [
    "Mens_100G = mens_100[mens_100.Medal == 'G']"
   ]
  },
  {
   "cell_type": "code",
   "execution_count": null,
   "id": "e3e74775",
   "metadata": {},
   "outputs": [],
   "source": [
    "Mens_100G.head()"
   ]
  },
  {
   "cell_type": "code",
   "execution_count": null,
   "id": "5a9da10a",
   "metadata": {},
   "outputs": [],
   "source": [
    "Mens_100G.plot.line(x='Year',\n",
    "                    y=\"Result\",\n",
    "                    xlabel = 'Year',\n",
    "                    ylabel = 'Winning',\n",
    "                    title = 'Winning time for the Mens Olympic 100M',\n",
    "                    figsize = (10,5),\n",
    "                    colormap ='viridis',\n",
    "                    color=['#3B528B'],\n",
    "                    grid = True,\n",
    "                    xlim = (0,32),\n",
    "                    ylim = (0, 110),\n",
    "                    xticks = [0,1,2,3,4,5,6,7,8,9,10,11,12,13,14,15,16,17,18,19,20,21,22,23,24,25,26,27,28,29,30,31,32],\n",
    "                    yticks = [0,10,20,30,40,50,60,70,80,90,100,110],\n",
    "                    linewidth=4)\n",
    "                              \n",
    "plt.legend(loc = \"lower right\")"
   ]
  },
  {
   "cell_type": "markdown",
   "id": "fb343a6e",
   "metadata": {},
   "source": [
    "Let's make a dataframe for this to import into excel later"
   ]
  },
  {
   "cell_type": "code",
   "execution_count": null,
   "id": "00fb7b70",
   "metadata": {},
   "outputs": [],
   "source": [
    "M100G = pd.DataFrame(Mens_100G)"
   ]
  },
  {
   "cell_type": "code",
   "execution_count": null,
   "id": "c66e8509",
   "metadata": {},
   "outputs": [],
   "source": [
    "M100G.head()"
   ]
  },
  {
   "cell_type": "markdown",
   "id": "d34de54c",
   "metadata": {},
   "source": [
    "Lets make a dataframe for the female medalists"
   ]
  },
  {
   "cell_type": "code",
   "execution_count": null,
   "id": "765fb0fa",
   "metadata": {},
   "outputs": [],
   "source": [
    "female_medalists = oly_medalists[oly_medalists.Gender == 'W']"
   ]
  },
  {
   "cell_type": "code",
   "execution_count": null,
   "id": "84a40fe8",
   "metadata": {},
   "outputs": [],
   "source": [
    "female_medalists.head()"
   ]
  },
  {
   "cell_type": "code",
   "execution_count": null,
   "id": "7d91722b",
   "metadata": {},
   "outputs": [],
   "source": [
    "female_medalists.Country.value_counts()"
   ]
  },
  {
   "cell_type": "markdown",
   "id": "e6622acf",
   "metadata": {},
   "source": [
    "Lets make a dataframe of the female medalist by country"
   ]
  },
  {
   "cell_type": "code",
   "execution_count": null,
   "id": "aa9d957b",
   "metadata": {},
   "outputs": [],
   "source": [
    "female_medalists_ctry = pd.DataFrame(female_medalists.Country.value_counts().reset_index())"
   ]
  },
  {
   "cell_type": "code",
   "execution_count": null,
   "id": "0a66592e",
   "metadata": {},
   "outputs": [],
   "source": [
    "female_medalists_ctry.head()"
   ]
  },
  {
   "cell_type": "code",
   "execution_count": null,
   "id": "efe19b69",
   "metadata": {},
   "outputs": [],
   "source": [
    "female_medalists_ctry.columns = ['Country', 'Medals']"
   ]
  },
  {
   "cell_type": "code",
   "execution_count": null,
   "id": "d9ef729b",
   "metadata": {},
   "outputs": [],
   "source": [
    "female_medalists_ctry.head()"
   ]
  },
  {
   "cell_type": "code",
   "execution_count": null,
   "id": "e8b66640",
   "metadata": {},
   "outputs": [],
   "source": [
    "plt.bar(female_medalists_ctry.Country.nlargest(5), female_medalists_ctry.Medals)\n",
    "plt.title('Top 5 Female Olympic Track & Field Medals By Country')\n",
    "plt.xlabel('Counrty')\n",
    "plt.ylabel('Medals')\n",
    "plt.show()"
   ]
  },
  {
   "cell_type": "code",
   "execution_count": null,
   "id": "597ab1cf",
   "metadata": {},
   "outputs": [],
   "source": [
    "#xlwriter = pd.ExcelWriter('Medals_By_Gender.xlsx') \n",
    "#male_medalists_ctry.to_excel(xlwriter, sheet_name='Male_Medalists')\n",
    "#men100.to_excel(xlwriter, sheet_name='Male_100M_Medalists')\n",
    "#M100G.to_excel(xlwriter, sheet_name='Male_100G_Medalists')\n",
    "#female_medalists_ctry.to_excel(xlwriter, sheet_name='Female_Medalists')\n",
    "#xlwriter.close()"
   ]
  }
 ],
 "metadata": {
  "kernelspec": {
   "display_name": "Python 3 (ipykernel)",
   "language": "python",
   "name": "python3"
  },
  "language_info": {
   "codemirror_mode": {
    "name": "ipython",
    "version": 3
   },
   "file_extension": ".py",
   "mimetype": "text/x-python",
   "name": "python",
   "nbconvert_exporter": "python",
   "pygments_lexer": "ipython3",
   "version": "3.9.7"
  }
 },
 "nbformat": 4,
 "nbformat_minor": 5
}
