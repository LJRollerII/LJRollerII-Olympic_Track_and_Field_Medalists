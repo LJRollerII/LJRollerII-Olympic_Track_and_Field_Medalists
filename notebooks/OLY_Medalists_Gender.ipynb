{
 "cells": [
  {
   "cell_type": "code",
   "execution_count": null,
   "id": "ca1f1db3",
   "metadata": {},
   "outputs": [],
   "source": [
    "import pandas as pd\n",
    "import numpy as np\n",
    "import matplotlib.pyplot as plt\n",
    "import seaborn as sns"
   ]
  },
  {
   "cell_type": "code",
   "execution_count": null,
   "id": "5cc13451",
   "metadata": {},
   "outputs": [],
   "source": [
    "%matplotlib inline"
   ]
  },
  {
   "cell_type": "code",
   "execution_count": null,
   "id": "7ff918a8",
   "metadata": {},
   "outputs": [],
   "source": [
    "import re"
   ]
  },
  {
   "cell_type": "code",
   "execution_count": null,
   "id": "2e18b7af",
   "metadata": {},
   "outputs": [],
   "source": [
    "#oly_medalists = pd.read_excel(\"../spreadsheets/Olympic_TF_Medalists.xls\")"
   ]
  },
  {
   "cell_type": "code",
   "execution_count": null,
   "id": "234a271e",
   "metadata": {},
   "outputs": [],
   "source": [
    "oly_medalists.head()"
   ]
  },
  {
   "cell_type": "markdown",
   "id": "a752b4ed",
   "metadata": {},
   "source": [
    "Lets make a dataframe for the male medalists"
   ]
  },
  {
   "cell_type": "code",
   "execution_count": null,
   "id": "d87cc4ae",
   "metadata": {},
   "outputs": [],
   "source": [
    "male_medalists = oly_medalists[oly_medalists.Gender == 'M']"
   ]
  },
  {
   "cell_type": "code",
   "execution_count": null,
   "id": "4ca771e5",
   "metadata": {},
   "outputs": [],
   "source": [
    "male_medalists.head()"
   ]
  },
  {
   "cell_type": "code",
   "execution_count": null,
   "id": "afbba951",
   "metadata": {},
   "outputs": [],
   "source": [
    "male_medalists.Country.value_counts()"
   ]
  },
  {
   "cell_type": "markdown",
   "id": "d53505ed",
   "metadata": {},
   "source": [
    "Lets make a dataframe of the male medalist by country"
   ]
  },
  {
   "cell_type": "code",
   "execution_count": null,
   "id": "df0c088b",
   "metadata": {},
   "outputs": [],
   "source": [
    "male_medalists_ctry = pd.DataFrame(male_medalists.Country.value_counts().reset_index())"
   ]
  },
  {
   "cell_type": "code",
   "execution_count": null,
   "id": "e6740cb9",
   "metadata": {},
   "outputs": [],
   "source": [
    "male_medalists_ctry.head()"
   ]
  },
  {
   "cell_type": "code",
   "execution_count": null,
   "id": "aa4182fe",
   "metadata": {},
   "outputs": [],
   "source": [
    "male_medalists_ctry.columns = ['Country', 'Medals']"
   ]
  },
  {
   "cell_type": "code",
   "execution_count": null,
   "id": "0c9533df",
   "metadata": {},
   "outputs": [],
   "source": [
    "male_medalists_ctry.head()"
   ]
  },
  {
   "cell_type": "code",
   "execution_count": null,
   "id": "f2514b36",
   "metadata": {},
   "outputs": [],
   "source": [
    "plt.bar(male_medalists_ctry.Country.nlargest(5), male_medalists_ctry.Medals)\n",
    "plt.title('Top 5 Male Olympic Track & Field Medals By Country')\n",
    "plt.xlabel('Counrty')\n",
    "plt.ylabel('Medals')\n",
    "plt.show()"
   ]
  },
  {
   "cell_type": "markdown",
   "id": "58085362",
   "metadata": {},
   "source": [
    "Let's make a data frame for the Men's 100M"
   ]
  },
  {
   "cell_type": "code",
   "execution_count": null,
   "id": "c858bc74",
   "metadata": {},
   "outputs": [],
   "source": [
    "mens_100 = male_medalists[male_medalists.Event == '100M Men']"
   ]
  },
  {
   "cell_type": "code",
   "execution_count": null,
   "id": "278e6e24",
   "metadata": {},
   "outputs": [],
   "source": [
    "mens_100.head()"
   ]
  },
  {
   "cell_type": "code",
   "execution_count": null,
   "id": "c1daf9e9",
   "metadata": {},
   "outputs": [],
   "source": [
    "mens_100.Country.value_counts()"
   ]
  },
  {
   "cell_type": "code",
   "execution_count": null,
   "id": "e1940b41",
   "metadata": {},
   "outputs": [],
   "source": [
    "men100 = pd.DataFrame(mens_100.Country.value_counts().reset_index())"
   ]
  },
  {
   "cell_type": "code",
   "execution_count": null,
   "id": "69d6ca84",
   "metadata": {},
   "outputs": [],
   "source": [
    "men100.head()"
   ]
  },
  {
   "cell_type": "code",
   "execution_count": null,
   "id": "74b4bc40",
   "metadata": {},
   "outputs": [],
   "source": [
    "men100.columns = ['Country', 'Medals']"
   ]
  },
  {
   "cell_type": "code",
   "execution_count": null,
   "id": "0b816fdf",
   "metadata": {},
   "outputs": [],
   "source": [
    "men100.head()"
   ]
  },
  {
   "cell_type": "code",
   "execution_count": null,
   "id": "de4437df",
   "metadata": {},
   "outputs": [],
   "source": [
    "plt.bar(men100.Country.nlargest(5), men100.Medals)\n",
    "plt.title('Top 5 Olympic Track & Field 100M Medalists By Country')\n",
    "plt.xlabel('Counrty')\n",
    "plt.ylabel('Medals')\n",
    "plt.show()"
   ]
  },
  {
   "cell_type": "markdown",
   "id": "37bcb7eb",
   "metadata": {},
   "source": [
    "Let's find out how many medalists Ran Sub-10 for the 100M"
   ]
  },
  {
   "cell_type": "code",
   "execution_count": null,
   "id": "12c4ba0b",
   "metadata": {},
   "outputs": [],
   "source": [
    "print(mens_100.Result < 10)"
   ]
  },
  {
   "cell_type": "code",
   "execution_count": null,
   "id": "34d2a75a",
   "metadata": {},
   "outputs": [],
   "source": [
    "Sub10_Men = mens_100.Result < 10"
   ]
  },
  {
   "cell_type": "code",
   "execution_count": null,
   "id": "688a5d0c",
   "metadata": {},
   "outputs": [],
   "source": [
    "Sub10_Men.value_counts()"
   ]
  },
  {
   "cell_type": "code",
   "execution_count": null,
   "id": "be593a94",
   "metadata": {},
   "outputs": [],
   "source": [
    "plt.pie(Sub10_Men.value_counts())\n",
    "plt.show()"
   ]
  },
  {
   "cell_type": "markdown",
   "id": "6e23afad",
   "metadata": {},
   "source": [
    "Let's make a dataframe for this to import into excel later"
   ]
  },
  {
   "cell_type": "code",
   "execution_count": null,
   "id": "b83ca240",
   "metadata": {},
   "outputs": [],
   "source": [
    "Sub_10 = pd.DataFrame(Sub10_Men.value_counts().reset_index())"
   ]
  },
  {
   "cell_type": "code",
   "execution_count": null,
   "id": "a8d9c846",
   "metadata": {},
   "outputs": [],
   "source": [
    "Sub_10.head()"
   ]
  },
  {
   "cell_type": "code",
   "execution_count": null,
   "id": "86d5d94d",
   "metadata": {},
   "outputs": [],
   "source": [
    "Sub_10.columns = ['True', 'False']"
   ]
  },
  {
   "cell_type": "code",
   "execution_count": null,
   "id": "844fac6d",
   "metadata": {},
   "outputs": [],
   "source": [
    "Sub_10.head()"
   ]
  },
  {
   "cell_type": "markdown",
   "id": "62d94437",
   "metadata": {},
   "source": [
    "Let's make a dataframe for the Men's 100 Gold Medalists"
   ]
  },
  {
   "cell_type": "code",
   "execution_count": null,
   "id": "ebbe9c7f",
   "metadata": {},
   "outputs": [],
   "source": [
    "Mens_100G = mens_100[mens_100.Medal == 'G']"
   ]
  },
  {
   "cell_type": "code",
   "execution_count": null,
   "id": "e3e74775",
   "metadata": {},
   "outputs": [],
   "source": [
    "Mens_100G.head()"
   ]
  },
  {
   "cell_type": "code",
   "execution_count": null,
   "id": "5a9da10a",
   "metadata": {},
   "outputs": [],
   "source": [
    "Mens_100G.plot.line(x='Year',\n",
    "                    y=\"Result\",\n",
    "                    xlabel = 'Year',\n",
    "                    ylabel = 'Winning',\n",
    "                    title = 'Winning time for the Mens Olympic 100M',\n",
    "                    figsize = (10,5),\n",
    "                    colormap ='viridis',\n",
    "                    color=['#3B528B'],\n",
    "                    grid = True,\n",
    "                    xlim = (0,32),\n",
    "                    ylim = (0, 110),\n",
    "                    xticks = [0,1,2,3,4,5,6,7,8,9,10,11,12,13,14,15,16,17,18,19,20,21,22,23,24,25,26,27,28,29,30,31,32],\n",
    "                    yticks = [0,10,20,30,40,50,60,70,80,90,100,110],\n",
    "                    linewidth=4)\n",
    "                              \n",
    "plt.legend(loc = \"lower right\")"
   ]
  },
  {
   "cell_type": "markdown",
   "id": "fb343a6e",
   "metadata": {},
   "source": [
    "Let's make a dataframe for this to import into excel later"
   ]
  },
  {
   "cell_type": "code",
   "execution_count": null,
   "id": "00fb7b70",
   "metadata": {},
   "outputs": [],
   "source": [
    "M100G = pd.DataFrame(Mens_100G)"
   ]
  },
  {
   "cell_type": "code",
   "execution_count": null,
   "id": "c66e8509",
   "metadata": {},
   "outputs": [],
   "source": [
    "M100G.head()"
   ]
  },
  {
   "cell_type": "markdown",
   "id": "170deb55",
   "metadata": {},
   "source": [
    "Let's find out how many gold medalists Ran Sub-10 for the 100M"
   ]
  },
  {
   "cell_type": "code",
   "execution_count": null,
   "id": "a12c6164",
   "metadata": {},
   "outputs": [],
   "source": [
    "print(Mens_100G.Result < 10)"
   ]
  },
  {
   "cell_type": "code",
   "execution_count": null,
   "id": "3c89a97e",
   "metadata": {},
   "outputs": [],
   "source": [
    "Sub10_MenG = Mens_100G.Result < 10"
   ]
  },
  {
   "cell_type": "code",
   "execution_count": null,
   "id": "d81bf7a5",
   "metadata": {},
   "outputs": [],
   "source": [
    "Sub10_MenG.value_counts()"
   ]
  },
  {
   "cell_type": "code",
   "execution_count": null,
   "id": "54b601b1",
   "metadata": {},
   "outputs": [],
   "source": [
    "plt.pie(Sub10_MenG.value_counts())\n",
    "plt.show()"
   ]
  },
  {
   "cell_type": "markdown",
   "id": "8189248b",
   "metadata": {},
   "source": [
    "Let's make a dataframe for this to import into excel later"
   ]
  },
  {
   "cell_type": "code",
   "execution_count": null,
   "id": "de6c3eb7",
   "metadata": {},
   "outputs": [],
   "source": [
    "Sub_10G = pd.DataFrame(Sub10_MenG.value_counts().reset_index())"
   ]
  },
  {
   "cell_type": "code",
   "execution_count": null,
   "id": "3ced7ae0",
   "metadata": {},
   "outputs": [],
   "source": [
    "Sub_10G.head()"
   ]
  },
  {
   "cell_type": "code",
   "execution_count": null,
   "id": "fccb12ea",
   "metadata": {},
   "outputs": [],
   "source": [
    "Sub_10G.columns = ['True', 'False']"
   ]
  },
  {
   "cell_type": "code",
   "execution_count": null,
   "id": "e7485391",
   "metadata": {},
   "outputs": [],
   "source": [
    "Sub_10G.head()"
   ]
  },
  {
   "cell_type": "markdown",
   "id": "a0a452f8",
   "metadata": {},
   "source": [
    "Let's make a data frame for the Men's 400M Hurdles"
   ]
  },
  {
   "cell_type": "code",
   "execution_count": null,
   "id": "e3a85e58",
   "metadata": {},
   "outputs": [],
   "source": [
    "mens_400H = male_medalists[male_medalists.Event == '400M Hurdles Men']"
   ]
  },
  {
   "cell_type": "code",
   "execution_count": null,
   "id": "dd1b575e",
   "metadata": {},
   "outputs": [],
   "source": [
    "mens_400H.head()"
   ]
  },
  {
   "cell_type": "code",
   "execution_count": null,
   "id": "86d5ae95",
   "metadata": {},
   "outputs": [],
   "source": [
    "mens_400H.Country.value_counts()"
   ]
  },
  {
   "cell_type": "code",
   "execution_count": null,
   "id": "fd11119e",
   "metadata": {},
   "outputs": [],
   "source": [
    "M400H = pd.DataFrame(mens_400H.Country.value_counts().reset_index())"
   ]
  },
  {
   "cell_type": "code",
   "execution_count": null,
   "id": "ccc70d6c",
   "metadata": {},
   "outputs": [],
   "source": [
    "M400H.head()"
   ]
  },
  {
   "cell_type": "code",
   "execution_count": null,
   "id": "17324887",
   "metadata": {},
   "outputs": [],
   "source": [
    "M400H.columns = ['Country', 'Medals']"
   ]
  },
  {
   "cell_type": "code",
   "execution_count": null,
   "id": "fb13c46e",
   "metadata": {},
   "outputs": [],
   "source": [
    "M400H.head()"
   ]
  },
  {
   "cell_type": "markdown",
   "id": "808c80e5",
   "metadata": {},
   "source": [
    "Dataframe for the Men's 400M Hurdles Gold Medalists"
   ]
  },
  {
   "cell_type": "code",
   "execution_count": null,
   "id": "e53d2f5e",
   "metadata": {},
   "outputs": [],
   "source": [
    "Mens_400HG = mens_400H[mens_400H.Medal == 'G']"
   ]
  },
  {
   "cell_type": "code",
   "execution_count": null,
   "id": "3ee4e675",
   "metadata": {},
   "outputs": [],
   "source": [
    "Mens_400HG.head()"
   ]
  },
  {
   "cell_type": "code",
   "execution_count": null,
   "id": "46d137a0",
   "metadata": {},
   "outputs": [],
   "source": [
    "Mens_400HG.plot.line(x='Year',\n",
    "                    y=\"Result\",\n",
    "                    xlabel = 'Year',\n",
    "                    ylabel = 'Winning',\n",
    "                    title = 'Winning time for the Mens Olympic 100M',\n",
    "                    figsize = (10,5),\n",
    "                    colormap ='viridis',\n",
    "                    color=['#3B528B'],\n",
    "                    grid = True,\n",
    "                    xlim = (0,32),\n",
    "                    ylim = (0, 110),\n",
    "                    xticks = [0,1,2,3,4,5,6,7,8,9,10,11,12,13,14,15,16,17,18,19,20,21,22,23,24,25,26,27,28,29,30,31,32],\n",
    "                    yticks = [0,10,20,30,40,50,60,70,80,90,100,110],\n",
    "                    linewidth=4)\n",
    "                              \n",
    "plt.legend(loc = \"lower right\")"
   ]
  },
  {
   "cell_type": "markdown",
   "id": "e68717a7",
   "metadata": {},
   "source": [
    "Let's make a dataframe for this to import into excel later"
   ]
  },
  {
   "cell_type": "code",
   "execution_count": null,
   "id": "51d4bd43",
   "metadata": {},
   "outputs": [],
   "source": [
    "M400HG = pd.DataFrame(Mens_400HG)"
   ]
  },
  {
   "cell_type": "code",
   "execution_count": null,
   "id": "d836da1c",
   "metadata": {},
   "outputs": [],
   "source": [
    "M400HG.head()"
   ]
  },
  {
   "cell_type": "code",
   "execution_count": null,
   "id": "6a09e1fb",
   "metadata": {},
   "outputs": [],
   "source": [
    "Let's make a data frame for the Men's 1500M"
   ]
  },
  {
   "cell_type": "code",
   "execution_count": null,
   "id": "614fe08c",
   "metadata": {},
   "outputs": [],
   "source": [
    "mens_1500 = male_medalists[male_medalists.Event == '1500M Men']"
   ]
  },
  {
   "cell_type": "code",
   "execution_count": null,
   "id": "fe1c1175",
   "metadata": {},
   "outputs": [],
   "source": [
    "mens_1500.head()"
   ]
  },
  {
   "cell_type": "code",
   "execution_count": null,
   "id": "8c357b56",
   "metadata": {},
   "outputs": [],
   "source": [
    "mens_1500.Country.value_counts()"
   ]
  },
  {
   "cell_type": "code",
   "execution_count": null,
   "id": "aa92ce13",
   "metadata": {},
   "outputs": [],
   "source": [
    "M1500 = pd.DataFrame(mens_1500.Country.value_counts().reset_index())"
   ]
  },
  {
   "cell_type": "code",
   "execution_count": null,
   "id": "d0e7622c",
   "metadata": {},
   "outputs": [],
   "source": [
    "M1500.head()"
   ]
  },
  {
   "cell_type": "code",
   "execution_count": null,
   "id": "9afc2930",
   "metadata": {},
   "outputs": [],
   "source": [
    "M1500.columns = ['Country', 'Medals']"
   ]
  },
  {
   "cell_type": "code",
   "execution_count": null,
   "id": "eaa87905",
   "metadata": {},
   "outputs": [],
   "source": [
    "M1500.head()"
   ]
  },
  {
   "cell_type": "markdown",
   "id": "1a49108b",
   "metadata": {},
   "source": [
    "Dataframe for the Men's 1500M Hurdles Gold Medalists"
   ]
  },
  {
   "cell_type": "code",
   "execution_count": null,
   "id": "2ae40b4c",
   "metadata": {},
   "outputs": [],
   "source": [
    "Mens_1500G = mens_1500[mens_1500.Medal == 'G']"
   ]
  },
  {
   "cell_type": "code",
   "execution_count": null,
   "id": "ec228bbd",
   "metadata": {},
   "outputs": [],
   "source": [
    "Mens_1500G.head()"
   ]
  },
  {
   "cell_type": "code",
   "execution_count": null,
   "id": "0b85d923",
   "metadata": {},
   "outputs": [],
   "source": [
    "Mens_1500G.plot.line(x='Year',\n",
    "                    y=\"Result\",\n",
    "                    xlabel = 'Year',\n",
    "                    ylabel = 'Winning',\n",
    "                    title = 'Winning time for the Mens Olympic 100M',\n",
    "                    figsize = (10,5),\n",
    "                    colormap ='viridis',\n",
    "                    color=['#3B528B'],\n",
    "                    grid = True,\n",
    "                    xlim = (0,32),\n",
    "                    ylim = (0, 110),\n",
    "                    xticks = [0,1,2,3,4,5,6,7,8,9,10,11,12,13,14,15,16,17,18,19,20,21,22,23,24,25,26,27,28,29,30,31,32],\n",
    "                    yticks = [0,10,20,30,40,50,60,70,80,90,100,110],\n",
    "                    linewidth=4)\n",
    "                              \n",
    "plt.legend(loc = \"lower right\")"
   ]
  },
  {
   "cell_type": "markdown",
   "id": "3a5d83b0",
   "metadata": {},
   "source": [
    "Let's make a dataframe for this to import into excel later"
   ]
  },
  {
   "cell_type": "code",
   "execution_count": null,
   "id": "aae99ec7",
   "metadata": {},
   "outputs": [],
   "source": [
    "M1500G = pd.DataFrame(Mens_1500G)"
   ]
  },
  {
   "cell_type": "code",
   "execution_count": null,
   "id": "8be6567c",
   "metadata": {},
   "outputs": [],
   "source": [
    "M1500G.head()"
   ]
  },
  {
   "cell_type": "markdown",
   "id": "8f352465",
   "metadata": {},
   "source": [
    "Let's make a data frame for the Men's Marathon"
   ]
  },
  {
   "cell_type": "code",
   "execution_count": null,
   "id": "75731384",
   "metadata": {},
   "outputs": [],
   "source": [
    "mens_marathon = male_medalists[male_medalists.Event == 'Marathon Men']  "
   ]
  },
  {
   "cell_type": "code",
   "execution_count": null,
   "id": "c2e27b4c",
   "metadata": {},
   "outputs": [],
   "source": [
    "mens_marathon.head()"
   ]
  },
  {
   "cell_type": "code",
   "execution_count": null,
   "id": "4aa6faef",
   "metadata": {},
   "outputs": [],
   "source": [
    "mens_marathon.Country.value_counts()"
   ]
  },
  {
   "cell_type": "code",
   "execution_count": null,
   "id": "b02dfc63",
   "metadata": {},
   "outputs": [],
   "source": [
    "M_Marathon = pd.DataFrame(mens_marathon.Country.value_counts().reset_index())"
   ]
  },
  {
   "cell_type": "code",
   "execution_count": null,
   "id": "899b9fc2",
   "metadata": {},
   "outputs": [],
   "source": [
    "M_Marathon.head()"
   ]
  },
  {
   "cell_type": "code",
   "execution_count": null,
   "id": "f230a82f",
   "metadata": {},
   "outputs": [],
   "source": [
    "M_Marathon.columns = ['Country', 'Medals']"
   ]
  },
  {
   "cell_type": "code",
   "execution_count": null,
   "id": "ab3234ea",
   "metadata": {},
   "outputs": [],
   "source": [
    "M_Marathon.head()"
   ]
  },
  {
   "cell_type": "markdown",
   "id": "50d47b62",
   "metadata": {},
   "source": [
    "Dataframe for the Men's Marathon Gold Medalists"
   ]
  },
  {
   "cell_type": "code",
   "execution_count": null,
   "id": "6154ca99",
   "metadata": {},
   "outputs": [],
   "source": [
    "Mens_MarathonG = mens_marathon[mens_marathon.Medal == 'G']"
   ]
  },
  {
   "cell_type": "code",
   "execution_count": null,
   "id": "7b9dd652",
   "metadata": {},
   "outputs": [],
   "source": [
    "Mens_MarathonG.head()"
   ]
  },
  {
   "cell_type": "code",
   "execution_count": null,
   "id": "232bb1bd",
   "metadata": {},
   "outputs": [],
   "source": [
    "Mens_MarathonG.plot.line(x='Year',\n",
    "                    y=\"Result\",\n",
    "                    xlabel = 'Year',\n",
    "                    ylabel = 'Winning',\n",
    "                    title = 'Winning time for the Mens Olympic 100M',\n",
    "                    figsize = (10,5),\n",
    "                    colormap ='viridis',\n",
    "                    color=['#3B528B'],\n",
    "                    grid = True,\n",
    "                    xlim = (0,32),\n",
    "                    ylim = (0, 110),\n",
    "                    xticks = [0,1,2,3,4,5,6,7,8,9,10,11,12,13,14,15,16,17,18,19,20,21,22,23,24,25,26,27,28,29,30,31,32],\n",
    "                    yticks = [0,10,20,30,40,50,60,70,80,90,100,110],\n",
    "                    linewidth=4)\n",
    "                              \n",
    "plt.legend(loc = \"lower right\")"
   ]
  },
  {
   "cell_type": "markdown",
   "id": "40911901",
   "metadata": {},
   "source": [
    "Let's make a dataframe for this to import into excel later"
   ]
  },
  {
   "cell_type": "code",
   "execution_count": null,
   "id": "5e0f8e03",
   "metadata": {},
   "outputs": [],
   "source": [
    "M_MarathonG = pd.DataFrame(Mens_MarathonG)"
   ]
  },
  {
   "cell_type": "code",
   "execution_count": null,
   "id": "0d56e95e",
   "metadata": {},
   "outputs": [],
   "source": [
    "M_MarathonG.head()"
   ]
  },
  {
   "cell_type": "markdown",
   "id": "d34de54c",
   "metadata": {},
   "source": [
    "Lets make a dataframe for the female medalists"
   ]
  },
  {
   "cell_type": "code",
   "execution_count": null,
   "id": "765fb0fa",
   "metadata": {},
   "outputs": [],
   "source": [
    "female_medalists = oly_medalists[oly_medalists.Gender == 'W']"
   ]
  },
  {
   "cell_type": "code",
   "execution_count": null,
   "id": "84a40fe8",
   "metadata": {},
   "outputs": [],
   "source": [
    "female_medalists.head()"
   ]
  },
  {
   "cell_type": "code",
   "execution_count": null,
   "id": "7d91722b",
   "metadata": {},
   "outputs": [],
   "source": [
    "female_medalists.Country.value_counts()"
   ]
  },
  {
   "cell_type": "markdown",
   "id": "e6622acf",
   "metadata": {},
   "source": [
    "Lets make a dataframe of the female medalist by country"
   ]
  },
  {
   "cell_type": "code",
   "execution_count": null,
   "id": "aa9d957b",
   "metadata": {},
   "outputs": [],
   "source": [
    "female_medalists_ctry = pd.DataFrame(female_medalists.Country.value_counts().reset_index())"
   ]
  },
  {
   "cell_type": "code",
   "execution_count": null,
   "id": "0a66592e",
   "metadata": {},
   "outputs": [],
   "source": [
    "female_medalists_ctry.head()"
   ]
  },
  {
   "cell_type": "code",
   "execution_count": null,
   "id": "efe19b69",
   "metadata": {},
   "outputs": [],
   "source": [
    "female_medalists_ctry.columns = ['Country', 'Medals']"
   ]
  },
  {
   "cell_type": "code",
   "execution_count": null,
   "id": "d9ef729b",
   "metadata": {},
   "outputs": [],
   "source": [
    "female_medalists_ctry.head()"
   ]
  },
  {
   "cell_type": "code",
   "execution_count": null,
   "id": "e8b66640",
   "metadata": {},
   "outputs": [],
   "source": [
    "plt.bar(female_medalists_ctry.Country.nlargest(5), female_medalists_ctry.Medals)\n",
    "plt.title('Top 5 Female Olympic Track & Field Medals By Country')\n",
    "plt.xlabel('Counrty')\n",
    "plt.ylabel('Medals')\n",
    "plt.show()"
   ]
  },
  {
   "cell_type": "markdown",
   "id": "b5a30a26",
   "metadata": {},
   "source": [
    "Let's make a data frame for the Women's 100M Hurdles"
   ]
  },
  {
   "cell_type": "code",
   "execution_count": null,
   "id": "830a7320",
   "metadata": {},
   "outputs": [],
   "source": [
    "womens_100H = female_medalists[male_medalists.Event == '100M Hurdles Women']"
   ]
  },
  {
   "cell_type": "code",
   "execution_count": null,
   "id": "fa6a26a7",
   "metadata": {},
   "outputs": [],
   "source": [
    "womens_100H.head()"
   ]
  },
  {
   "cell_type": "code",
   "execution_count": null,
   "id": "f2d666f5",
   "metadata": {},
   "outputs": [],
   "source": [
    "womens_100H.Country.value_counts()"
   ]
  },
  {
   "cell_type": "code",
   "execution_count": null,
   "id": "00d4df44",
   "metadata": {},
   "outputs": [],
   "source": [
    "W100H = pd.DataFrame(womens_100H.Country.value_counts().reset_index())"
   ]
  },
  {
   "cell_type": "code",
   "execution_count": null,
   "id": "e8d83f97",
   "metadata": {},
   "outputs": [],
   "source": [
    "W100H.head()"
   ]
  },
  {
   "cell_type": "code",
   "execution_count": null,
   "id": "a502d17c",
   "metadata": {},
   "outputs": [],
   "source": [
    "W100H.columns = ['Country', 'Medals']"
   ]
  },
  {
   "cell_type": "code",
   "execution_count": null,
   "id": "d0aa4a86",
   "metadata": {},
   "outputs": [],
   "source": [
    "W100H.head()"
   ]
  },
  {
   "cell_type": "markdown",
   "id": "c3296332",
   "metadata": {},
   "source": [
    "Dataframe for the Women's 100M Hurdles Gold Medalists"
   ]
  },
  {
   "cell_type": "code",
   "execution_count": null,
   "id": "5f0c6cc7",
   "metadata": {},
   "outputs": [],
   "source": [
    "Womens_100HG = mens_400H[womens_100H.Medal == 'G']"
   ]
  },
  {
   "cell_type": "code",
   "execution_count": null,
   "id": "a85c4bec",
   "metadata": {},
   "outputs": [],
   "source": [
    "Womens_100HG.head()"
   ]
  },
  {
   "cell_type": "code",
   "execution_count": null,
   "id": "d280273a",
   "metadata": {},
   "outputs": [],
   "source": [
    "Womens_100HG.plot.line(x='Year',\n",
    "                    y=\"Result\",\n",
    "                    xlabel = 'Year',\n",
    "                    ylabel = 'Winning',\n",
    "                    title = 'Winning time for the Mens Olympic 100M',\n",
    "                    figsize = (10,5),\n",
    "                    colormap ='viridis',\n",
    "                    color=['#3B528B'],\n",
    "                    grid = True,\n",
    "                    xlim = (0,32),\n",
    "                    ylim = (0, 110),\n",
    "                    xticks = [0,1,2,3,4,5,6,7,8,9,10,11,12,13,14,15,16,17,18,19,20,21,22,23,24,25,26,27,28,29,30,31,32],\n",
    "                    yticks = [0,10,20,30,40,50,60,70,80,90,100,110],\n",
    "                    linewidth=4)\n",
    "                              \n",
    "plt.legend(loc = \"lower right\")"
   ]
  },
  {
   "cell_type": "markdown",
   "id": "d17a78cd",
   "metadata": {},
   "source": [
    "Let's make a dataframe for this to import into excel later"
   ]
  },
  {
   "cell_type": "code",
   "execution_count": null,
   "id": "a86aff61",
   "metadata": {},
   "outputs": [],
   "source": [
    "W100HG = pd.DataFrame(Womens_100HG)"
   ]
  },
  {
   "cell_type": "code",
   "execution_count": null,
   "id": "88ce7bc3",
   "metadata": {},
   "outputs": [],
   "source": [
    "W400HG.head()"
   ]
  },
  {
   "cell_type": "markdown",
   "id": "ae1acb95",
   "metadata": {},
   "source": [
    "Let's make a data frame for the Women's 400M Hurdles"
   ]
  },
  {
   "cell_type": "code",
   "execution_count": null,
   "id": "ffc8ddd4",
   "metadata": {},
   "outputs": [],
   "source": [
    "womens_400H = female_medalists[male_medalists.Event == '400M Hurdles Women']"
   ]
  },
  {
   "cell_type": "code",
   "execution_count": null,
   "id": "7a38f92d",
   "metadata": {},
   "outputs": [],
   "source": [
    "womens_400H.head()"
   ]
  },
  {
   "cell_type": "code",
   "execution_count": null,
   "id": "4e6c59dd",
   "metadata": {},
   "outputs": [],
   "source": [
    "womens_400H.Country.value_counts()"
   ]
  },
  {
   "cell_type": "code",
   "execution_count": null,
   "id": "fca2926d",
   "metadata": {},
   "outputs": [],
   "source": [
    "W400H = pd.DataFrame(womens_400H.Country.value_counts().reset_index())"
   ]
  },
  {
   "cell_type": "code",
   "execution_count": null,
   "id": "e53eeef5",
   "metadata": {},
   "outputs": [],
   "source": [
    "W400H.head()"
   ]
  },
  {
   "cell_type": "code",
   "execution_count": null,
   "id": "84984259",
   "metadata": {},
   "outputs": [],
   "source": [
    "W400H.columns = ['Country', 'Medals']"
   ]
  },
  {
   "cell_type": "code",
   "execution_count": null,
   "id": "e0afd27e",
   "metadata": {},
   "outputs": [],
   "source": [
    "W400H.head()"
   ]
  },
  {
   "cell_type": "markdown",
   "id": "a2205799",
   "metadata": {},
   "source": [
    "Dataframe for the Women's 400M Hurdles Gold Medalists"
   ]
  },
  {
   "cell_type": "code",
   "execution_count": null,
   "id": "6311ba75",
   "metadata": {},
   "outputs": [],
   "source": [
    "Womens_400HG = mens_400H[womens_400H.Medal == 'G']"
   ]
  },
  {
   "cell_type": "code",
   "execution_count": null,
   "id": "f4b3f8dc",
   "metadata": {},
   "outputs": [],
   "source": [
    "Womens_400HG.head()"
   ]
  },
  {
   "cell_type": "code",
   "execution_count": null,
   "id": "bbc180e3",
   "metadata": {},
   "outputs": [],
   "source": [
    "Womens_400HG.plot.line(x='Year',\n",
    "                    y=\"Result\",\n",
    "                    xlabel = 'Year',\n",
    "                    ylabel = 'Winning',\n",
    "                    title = 'Winning time for the Mens Olympic 100M',\n",
    "                    figsize = (10,5),\n",
    "                    colormap ='viridis',\n",
    "                    color=['#3B528B'],\n",
    "                    grid = True,\n",
    "                    xlim = (0,32),\n",
    "                    ylim = (0, 110),\n",
    "                    xticks = [0,1,2,3,4,5,6,7,8,9,10,11,12,13,14,15,16,17,18,19,20,21,22,23,24,25,26,27,28,29,30,31,32],\n",
    "                    yticks = [0,10,20,30,40,50,60,70,80,90,100,110],\n",
    "                    linewidth=4)\n",
    "                              \n",
    "plt.legend(loc = \"lower right\")"
   ]
  },
  {
   "cell_type": "markdown",
   "id": "ae30816d",
   "metadata": {},
   "source": [
    "Let's make a dataframe for this to import into excel later"
   ]
  },
  {
   "cell_type": "code",
   "execution_count": null,
   "id": "abfab200",
   "metadata": {},
   "outputs": [],
   "source": [
    "W400HG = pd.DataFrame(Womens_400HG)"
   ]
  },
  {
   "cell_type": "code",
   "execution_count": null,
   "id": "6785af15",
   "metadata": {},
   "outputs": [],
   "source": [
    "W400HG.head()"
   ]
  },
  {
   "cell_type": "markdown",
   "id": "1051dea9",
   "metadata": {},
   "source": [
    "Let's make a data frame for the Women's Marathon"
   ]
  },
  {
   "cell_type": "code",
   "execution_count": null,
   "id": "4738a424",
   "metadata": {},
   "outputs": [],
   "source": [
    "womens_marathon = female_medalists[female_medalists.Event == 'Marathon Women']  "
   ]
  },
  {
   "cell_type": "code",
   "execution_count": null,
   "id": "162ad3c8",
   "metadata": {},
   "outputs": [],
   "source": [
    "womens_marathon.head()"
   ]
  },
  {
   "cell_type": "code",
   "execution_count": null,
   "id": "dde91fcc",
   "metadata": {},
   "outputs": [],
   "source": [
    "womens_marathon.Country.value_counts()"
   ]
  },
  {
   "cell_type": "code",
   "execution_count": null,
   "id": "77dd7cbc",
   "metadata": {},
   "outputs": [],
   "source": [
    "W_Marathon= pd.DataFrame(womens_marathon.Country.value_counts().reset_index())"
   ]
  },
  {
   "cell_type": "code",
   "execution_count": null,
   "id": "9d2f4752",
   "metadata": {},
   "outputs": [],
   "source": [
    "W_Marathon.head()"
   ]
  },
  {
   "cell_type": "code",
   "execution_count": null,
   "id": "081a5688",
   "metadata": {},
   "outputs": [],
   "source": [
    "W_Marathon.columns = ['Country', 'Medals']"
   ]
  },
  {
   "cell_type": "code",
   "execution_count": null,
   "id": "dbabcf60",
   "metadata": {},
   "outputs": [],
   "source": [
    "W_Marathon.head()"
   ]
  },
  {
   "cell_type": "markdown",
   "id": "e31f06d1",
   "metadata": {},
   "source": [
    "Dataframe for the Women's Marathon Gold Medalists"
   ]
  },
  {
   "cell_type": "code",
   "execution_count": null,
   "id": "b77f1289",
   "metadata": {},
   "outputs": [],
   "source": [
    "Womens_MarathonG = womens_marathon[womens_marathon.Medal == 'G']"
   ]
  },
  {
   "cell_type": "code",
   "execution_count": null,
   "id": "4449904c",
   "metadata": {},
   "outputs": [],
   "source": [
    "Womens_MarathonG.head()"
   ]
  },
  {
   "cell_type": "code",
   "execution_count": null,
   "id": "f73cf9c1",
   "metadata": {},
   "outputs": [],
   "source": [
    "Womens_MarathonG.plot.line(x='Year',\n",
    "                    y=\"Result\",\n",
    "                    xlabel = 'Year',\n",
    "                    ylabel = 'Winning',\n",
    "                    title = 'Winning time for the Mens Olympic 100M',\n",
    "                    figsize = (10,5),\n",
    "                    colormap ='viridis',\n",
    "                    color=['#3B528B'],\n",
    "                    grid = True,\n",
    "                    xlim = (0,32),\n",
    "                    ylim = (0, 110),\n",
    "                    xticks = [0,1,2,3,4,5,6,7,8,9,10,11,12,13,14,15,16,17,18,19,20,21,22,23,24,25,26,27,28,29,30,31,32],\n",
    "                    yticks = [0,10,20,30,40,50,60,70,80,90,100,110],\n",
    "                    linewidth=4)\n",
    "                              \n",
    "plt.legend(loc = \"lower right\")"
   ]
  },
  {
   "cell_type": "markdown",
   "id": "172d5538",
   "metadata": {},
   "source": [
    "Let's make a dataframe for this to import into excel later"
   ]
  },
  {
   "cell_type": "code",
   "execution_count": null,
   "id": "1ae3f28b",
   "metadata": {},
   "outputs": [],
   "source": [
    "W_MarathonG = pd.DataFrame(Womens_MarathonG)"
   ]
  },
  {
   "cell_type": "code",
   "execution_count": null,
   "id": "d8844bab",
   "metadata": {},
   "outputs": [],
   "source": [
    "W_MarathonG.head"
   ]
  },
  {
   "cell_type": "markdown",
   "id": "feb0c09c",
   "metadata": {},
   "source": [
    "Let's make a data frame for the Women's Pole Vault"
   ]
  },
  {
   "cell_type": "code",
   "execution_count": null,
   "id": "0c19cf4f",
   "metadata": {},
   "outputs": [],
   "source": [
    "womens_pv = female_medalists[female_medalists.Event == 'Pole Vault Women']  "
   ]
  },
  {
   "cell_type": "code",
   "execution_count": null,
   "id": "f54c00d5",
   "metadata": {},
   "outputs": [],
   "source": [
    "womens_pv.head()"
   ]
  },
  {
   "cell_type": "code",
   "execution_count": null,
   "id": "cbc3c010",
   "metadata": {},
   "outputs": [],
   "source": [
    "womens_pv.Country.value_counts()"
   ]
  },
  {
   "cell_type": "code",
   "execution_count": null,
   "id": "e1cf877a",
   "metadata": {},
   "outputs": [],
   "source": [
    "WPV = pd.DataFrame(womens_pv.Country.value_counts().reset_index())"
   ]
  },
  {
   "cell_type": "code",
   "execution_count": null,
   "id": "2ba62dd4",
   "metadata": {},
   "outputs": [],
   "source": [
    "WPV.head()"
   ]
  },
  {
   "cell_type": "code",
   "execution_count": null,
   "id": "26b7fe2f",
   "metadata": {},
   "outputs": [],
   "source": [
    "WPV.columns = ['Country', 'Medals']"
   ]
  },
  {
   "cell_type": "code",
   "execution_count": null,
   "id": "b607dabe",
   "metadata": {},
   "outputs": [],
   "source": [
    "WPV.head()"
   ]
  },
  {
   "cell_type": "markdown",
   "id": "cf467691",
   "metadata": {},
   "source": [
    "Dataframe for the Women's Pole Vault Gold Medalists"
   ]
  },
  {
   "cell_type": "code",
   "execution_count": null,
   "id": "4377fd03",
   "metadata": {},
   "outputs": [],
   "source": [
    "Womens_PVG = womens_pv[womens_pv.Medal == 'G']"
   ]
  },
  {
   "cell_type": "code",
   "execution_count": null,
   "id": "ee484f9c",
   "metadata": {},
   "outputs": [],
   "source": [
    "Womens_PVG.head()"
   ]
  },
  {
   "cell_type": "code",
   "execution_count": null,
   "id": "13a1a83e",
   "metadata": {},
   "outputs": [],
   "source": [
    "Womens_PVG.plot.line(x='Year',\n",
    "                    y=\"Result\",\n",
    "                    xlabel = 'Year',\n",
    "                    ylabel = 'Winning',\n",
    "                    title = 'Winning time for the Mens Olympic 100M',\n",
    "                    figsize = (10,5),\n",
    "                    colormap ='viridis',\n",
    "                    color=['#3B528B'],\n",
    "                    grid = True,\n",
    "                    xlim = (0,32),\n",
    "                    ylim = (0, 110),\n",
    "                    xticks = [0,1,2,3,4,5,6,7,8,9,10,11,12,13,14,15,16,17,18,19,20,21,22,23,24,25,26,27,28,29,30,31,32],\n",
    "                    yticks = [0,10,20,30,40,50,60,70,80,90,100,110],\n",
    "                    linewidth=4)\n",
    "                              \n",
    "plt.legend(loc = \"lower right\")"
   ]
  },
  {
   "cell_type": "markdown",
   "id": "9de4f85b",
   "metadata": {},
   "source": [
    "Let's make a dataframe for this to import into excel later"
   ]
  },
  {
   "cell_type": "code",
   "execution_count": null,
   "id": "0cf56680",
   "metadata": {},
   "outputs": [],
   "source": [
    "W_PVG = pd.DataFrame(Womens_PVG)"
   ]
  },
  {
   "cell_type": "code",
   "execution_count": null,
   "id": "2fe62c1c",
   "metadata": {},
   "outputs": [],
   "source": [
    "W_PVG.head()"
   ]
  },
  {
   "cell_type": "markdown",
   "id": "405a9c4b",
   "metadata": {},
   "source": [
    "Let's make some dataframes into an excel workbook"
   ]
  },
  {
   "cell_type": "code",
   "execution_count": null,
   "id": "d8a40477",
   "metadata": {},
   "outputs": [],
   "source": [
    "#xlwriter = pd.ExcelWriter('Medals_By_Gender.xlsx') \n",
    "#male_medalists_ctry.to_excel(xlwriter, sheet_name='Male_Medalists')\n",
    "#men100.to_excel(xlwriter, sheet_name='Male_100M_Medalists')\n",
    "#Sub_10.to_excel(xlwriter, sheet_name='Male_Sub10_Medalists')\n",
    "#Sub_10G.to_excel(xlwriter, sheet_name='Male_Sub10G_Medalists')\n",
    "#M100G.to_excel(xlwriter, sheet_name='Male_100G_Medalists')\n",
    "#M400H.to_excel(xlwriter, sheet_name='Male_400MH_Medalists')\n",
    "#M400HG.to_excel(xlwriter, sheet_name='Male_400HG_Medalists')\n",
    "#M1500.to_excel(xlwriter, sheet_name='Male_1500M_Medalists')\n",
    "#M1500G.to_excel(xlwriter, sheet_name='Male_1500G_Medalists')\n",
    "#M_Marathon.to_excel(xlwriter, sheet_name='Male_Marathon_Medalists')\n",
    "#M_MarathonG.to_excel(xlwriter, sheet_name='Male_MarathonG_Medalists')\n",
    "#female_medalists_ctry.to_excel(xlwriter, sheet_name='Female_Medalists')\n",
    "#W100H.to_excel(xlwriter, sheet_name='Feale_100MH_Medalists')\n",
    "#W100HG.to_excel(xlwriter, sheet_name='Female_100HG_Medalists')\n",
    "#W400H.to_excel(xlwriter, sheet_name='Feale_400MH_Medalists')\n",
    "#W400HG.to_excel(xlwriter, sheet_name='Female_400HG_Medalists')\n",
    "#W_Marathon.to_excel(xlwriter, sheet_name='Female_Marathon_Medalists')\n",
    "#W_MarathonG.to_excel(xlwriter, sheet_name='Female_MarathonG_Medalists')\n",
    "#WPV.to_excel(xlwriter, sheet_name='Female_PV_Medalists')\n",
    "#W_PVG.to_excel(xlwriter, sheet_name='Female_PVG_Medalists')\n",
    "#xlwriter.close()"
   ]
  }
 ],
 "metadata": {
  "kernelspec": {
   "display_name": "Python 3 (ipykernel)",
   "language": "python",
   "name": "python3"
  },
  "language_info": {
   "codemirror_mode": {
    "name": "ipython",
    "version": 3
   },
   "file_extension": ".py",
   "mimetype": "text/x-python",
   "name": "python",
   "nbconvert_exporter": "python",
   "pygments_lexer": "ipython3",
   "version": "3.9.7"
  }
 },
 "nbformat": 4,
 "nbformat_minor": 5
}
