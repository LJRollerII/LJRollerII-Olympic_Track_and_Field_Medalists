{
 "cells": [
  {
   "cell_type": "code",
   "execution_count": null,
   "id": "fa3f283d",
   "metadata": {},
   "outputs": [],
   "source": [
    "import pandas as pd\n",
    "import numpy as np\n",
    "import matplotlib.pyplot as plt\n",
    "import seaborn as sns"
   ]
  },
  {
   "cell_type": "code",
   "execution_count": null,
   "id": "9355678c",
   "metadata": {},
   "outputs": [],
   "source": [
    "%matplotlib inline"
   ]
  },
  {
   "cell_type": "code",
   "execution_count": null,
   "id": "146631a0",
   "metadata": {},
   "outputs": [],
   "source": [
    "import re"
   ]
  },
  {
   "cell_type": "code",
   "execution_count": null,
   "id": "d4895c61",
   "metadata": {},
   "outputs": [],
   "source": [
    "#oly_medalists = pd.read_excel(\"../spreadsheets/Olympic_TF_Medalists.xls\")"
   ]
  },
  {
   "cell_type": "code",
   "execution_count": null,
   "id": "c15055ac",
   "metadata": {},
   "outputs": [],
   "source": [
    "oly_medalists.head()"
   ]
  },
  {
   "cell_type": "code",
   "execution_count": null,
   "id": "f549d340",
   "metadata": {},
   "outputs": [],
   "source": [
    "oly_medalists.info"
   ]
  },
  {
   "cell_type": "code",
   "execution_count": null,
   "id": "ae44c96f",
   "metadata": {},
   "outputs": [],
   "source": [
    "oly_medalists.shape"
   ]
  },
  {
   "cell_type": "code",
   "execution_count": null,
   "id": "45982044",
   "metadata": {},
   "outputs": [],
   "source": [
    "print(oly_medalists.dtypes)"
   ]
  },
  {
   "cell_type": "code",
   "execution_count": null,
   "id": "0cfa8fac",
   "metadata": {},
   "outputs": [],
   "source": [
    "oly_medalists.describe()"
   ]
  },
  {
   "cell_type": "code",
   "execution_count": null,
   "id": "9fdcb71c",
   "metadata": {},
   "outputs": [],
   "source": [
    "oly_medalists.corr()"
   ]
  },
  {
   "cell_type": "markdown",
   "id": "f1114d97",
   "metadata": {},
   "source": [
    "Lets look at Medalists Per Country And Make Dataframes"
   ]
  },
  {
   "cell_type": "code",
   "execution_count": null,
   "id": "83730142",
   "metadata": {},
   "outputs": [],
   "source": [
    "oly_medalists.Country.value_counts()"
   ]
  },
  {
   "cell_type": "code",
   "execution_count": null,
   "id": "a7acadf3",
   "metadata": {},
   "outputs": [],
   "source": [
    "# medalists_ctry = pd.DataFrame(oly_medalists.Country.value_counts().reset_index())"
   ]
  },
  {
   "cell_type": "code",
   "execution_count": null,
   "id": "86c6f1a7",
   "metadata": {},
   "outputs": [],
   "source": [
    "medalists_ctry.head()"
   ]
  },
  {
   "cell_type": "code",
   "execution_count": null,
   "id": "a5029926",
   "metadata": {},
   "outputs": [],
   "source": [
    "medalists_ctry.columns = ['Country', 'Medals']"
   ]
  },
  {
   "cell_type": "code",
   "execution_count": null,
   "id": "65a3c0c9",
   "metadata": {},
   "outputs": [],
   "source": [
    "medalists_ctry.head()"
   ]
  },
  {
   "cell_type": "code",
   "execution_count": null,
   "id": "72d3495f",
   "metadata": {},
   "outputs": [],
   "source": [
    "plt.bar(medalists_ctry.Country.nlargest(5), medalists_ctry.Medals)\n",
    "plt.title('Top 5 Olympic Track & Field Medals By Country')\n",
    "plt.xlabel('Counrty')\n",
    "plt.ylabel('Medals')\n",
    "plt.show()"
   ]
  },
  {
   "cell_type": "code",
   "execution_count": null,
   "id": "781faa72",
   "metadata": {},
   "outputs": [],
   "source": [
    "plt.bar(medalists_ctry.Country.nsmallest(5), medalists_ctry.Medals)\n",
    "plt.title('Bottom 5 Olympic Track & Field Medals By Country')\n",
    "plt.xlabel('Counrty')\n",
    "plt.ylabel('Medals')\n",
    "plt.show()"
   ]
  },
  {
   "cell_type": "markdown",
   "id": "3d5b02ce",
   "metadata": {},
   "source": [
    "Lets make dataframes for the Specialties of Track & Field"
   ]
  },
  {
   "cell_type": "code",
   "execution_count": null,
   "id": "322f96ec",
   "metadata": {},
   "outputs": [],
   "source": [
    "sprints = oly_medalists[oly_medalists.Event.isin(['100M Men','200M Men','110M Hurdles Men','400M Men','400M Hurdles Men','4X100M Relay Men','4X400M Relay Men','100M Women','200M Women','100M Hurdles Women','400M Women','400M Hurdles Women','4X100M Relay Women','4X400M Relay Women','Mixed 4×400M Relay'])]"
   ]
  },
  {
   "cell_type": "code",
   "execution_count": null,
   "id": "53660f9b",
   "metadata": {},
   "outputs": [],
   "source": [
    "sprints.head()"
   ]
  },
  {
   "cell_type": "code",
   "execution_count": null,
   "id": "54fc8444",
   "metadata": {},
   "outputs": [],
   "source": [
    "sprints.Country.value_counts()"
   ]
  },
  {
   "cell_type": "code",
   "execution_count": null,
   "id": "7b2e6d70",
   "metadata": {},
   "outputs": [],
   "source": [
    "sprint_medalists_ctry = pd.DataFrame(sprints.Country.value_counts().reset_index())"
   ]
  },
  {
   "cell_type": "code",
   "execution_count": null,
   "id": "2090ee63",
   "metadata": {},
   "outputs": [],
   "source": [
    "sprint_medalists_ctry.head()"
   ]
  },
  {
   "cell_type": "code",
   "execution_count": null,
   "id": "436aa6f9",
   "metadata": {},
   "outputs": [],
   "source": [
    "sprint_medalists_ctry.columns = ['Country', 'Medals']"
   ]
  },
  {
   "cell_type": "code",
   "execution_count": null,
   "id": "b0a54db7",
   "metadata": {},
   "outputs": [],
   "source": [
    "sprint_medalists_ctry.head()"
   ]
  },
  {
   "cell_type": "code",
   "execution_count": null,
   "id": "6cfd1b95",
   "metadata": {},
   "outputs": [],
   "source": [
    "plt.bar(sprint_medalists_ctry.Country.nlargest(5), sprint_medalists_ctry.Medals)\n",
    "plt.title('Top 5 Countries for Sprints')\n",
    "plt.xlabel('Counrty')\n",
    "plt.ylabel('Medals')\n",
    "plt.show()"
   ]
  },
  {
   "cell_type": "code",
   "execution_count": null,
   "id": "bb754204",
   "metadata": {},
   "outputs": [],
   "source": [
    "mid_distance = oly_medalists[oly_medalists.Event.isin(['800M Men', '1500M Men', '3000M Steeplechase Men','800M Women','1500M Women','3000M Steeplechase Women'])]"
   ]
  },
  {
   "cell_type": "code",
   "execution_count": null,
   "id": "56e4d6a0",
   "metadata": {},
   "outputs": [],
   "source": [
    "mid_distance.head()"
   ]
  },
  {
   "cell_type": "code",
   "execution_count": null,
   "id": "e5701bd9",
   "metadata": {},
   "outputs": [],
   "source": [
    "mid_distance.Country.value_counts()"
   ]
  },
  {
   "cell_type": "code",
   "execution_count": null,
   "id": "3068bad0",
   "metadata": {},
   "outputs": [],
   "source": [
    "md_medalists_ctry = pd.DataFrame(middle_distance.Country.value_counts().reset_index())"
   ]
  },
  {
   "cell_type": "code",
   "execution_count": null,
   "id": "f11a44f9",
   "metadata": {},
   "outputs": [],
   "source": [
    "md_medalists_ctry.head()"
   ]
  },
  {
   "cell_type": "code",
   "execution_count": null,
   "id": "d27d8652",
   "metadata": {},
   "outputs": [],
   "source": [
    "md_medalists_ctry.columns = ['Country', 'Medals']"
   ]
  },
  {
   "cell_type": "code",
   "execution_count": null,
   "id": "65aaf958",
   "metadata": {},
   "outputs": [],
   "source": [
    "md_medalists_ctry.head()"
   ]
  },
  {
   "cell_type": "code",
   "execution_count": null,
   "id": "4e851a5b",
   "metadata": {},
   "outputs": [],
   "source": [
    "plt.bar(md_medalists_ctry.Country.nlargest(5), md_medalists_ctry.Medals)\n",
    "plt.title('Top 5 Olympic Countries for Middle Distance')\n",
    "plt.xlabel('Counrty')\n",
    "plt.ylabel('Medals')\n",
    "plt.show()"
   ]
  },
  {
   "cell_type": "code",
   "execution_count": null,
   "id": "d732935c",
   "metadata": {},
   "outputs": [],
   "source": [
    "distance = oly_medalists[oly_medalists.Event.isin(['5000M Men', '10000M Men','Marathon Men','5000M Women','10000M Women','Marathon Women'])]"
   ]
  },
  {
   "cell_type": "code",
   "execution_count": null,
   "id": "0e42bcdf",
   "metadata": {},
   "outputs": [],
   "source": [
    "distance.head()"
   ]
  },
  {
   "cell_type": "code",
   "execution_count": null,
   "id": "1c90c7b8",
   "metadata": {},
   "outputs": [],
   "source": [
    "distance.Country.value_counts()"
   ]
  },
  {
   "cell_type": "code",
   "execution_count": null,
   "id": "84ea879e",
   "metadata": {},
   "outputs": [],
   "source": [
    "distance_medalists_ctry = pd.DataFrame(distance.Country.value_counts().reset_index())"
   ]
  },
  {
   "cell_type": "code",
   "execution_count": null,
   "id": "fa3b254c",
   "metadata": {},
   "outputs": [],
   "source": [
    "distance_medalists_ctry.head()"
   ]
  },
  {
   "cell_type": "code",
   "execution_count": null,
   "id": "802620bd",
   "metadata": {},
   "outputs": [],
   "source": [
    "distance_medalists_ctry.columns = ['Country', 'Medals']"
   ]
  },
  {
   "cell_type": "code",
   "execution_count": null,
   "id": "a34cb876",
   "metadata": {},
   "outputs": [],
   "source": [
    "distance_medalists_ctry.head()"
   ]
  },
  {
   "cell_type": "code",
   "execution_count": null,
   "id": "06448885",
   "metadata": {},
   "outputs": [],
   "source": [
    "plt.bar(distance_medalists_ctry.Country.nlargest(5), distance_medalists_ctry.Medals)\n",
    "plt.title('Top 5 Olympic Countries for Distance Running')\n",
    "plt.xlabel('Counrty')\n",
    "plt.ylabel('Medals')\n",
    "plt.show()"
   ]
  },
  {
   "cell_type": "code",
   "execution_count": null,
   "id": "08cd3859",
   "metadata": {},
   "outputs": [],
   "source": [
    "jumps = oly_medalists[oly_medalists.Event.isin(['Long Jump Men', 'Triple Jump Men', 'High Jump Men','Pole Vault Men','Long Jump Women','Triple Jump Women','High Jump Women','Pole Vault Women'])]"
   ]
  },
  {
   "cell_type": "code",
   "execution_count": null,
   "id": "1155f562",
   "metadata": {},
   "outputs": [],
   "source": [
    "jumps.head()"
   ]
  },
  {
   "cell_type": "code",
   "execution_count": null,
   "id": "0af87130",
   "metadata": {},
   "outputs": [],
   "source": [
    "jumps.Country.value_counts()"
   ]
  },
  {
   "cell_type": "code",
   "execution_count": null,
   "id": "2d8406fb",
   "metadata": {},
   "outputs": [],
   "source": [
    "jumps_medalists_ctry = pd.DataFrame(jumps.Country.value_counts().reset_index())"
   ]
  },
  {
   "cell_type": "code",
   "execution_count": null,
   "id": "90bff376",
   "metadata": {},
   "outputs": [],
   "source": [
    "jumps_medalists_ctry.head()"
   ]
  },
  {
   "cell_type": "code",
   "execution_count": null,
   "id": "952da06b",
   "metadata": {},
   "outputs": [],
   "source": [
    "jumps_medalists_ctry.columns = ['Country', 'Medals']"
   ]
  },
  {
   "cell_type": "code",
   "execution_count": null,
   "id": "ac8427e7",
   "metadata": {},
   "outputs": [],
   "source": [
    "jumps_medalists_ctry.head()"
   ]
  },
  {
   "cell_type": "code",
   "execution_count": null,
   "id": "5b41dae7",
   "metadata": {},
   "outputs": [],
   "source": [
    "plt.bar(jumps_medalists_ctry.Country.nlargest(5), jumps_medalists_ctry.Medals)\n",
    "plt.title('Top 5 Olympic Countries for Jumps')\n",
    "plt.xlabel('Counrty')\n",
    "plt.ylabel('Medals')\n",
    "plt.show()"
   ]
  },
  {
   "cell_type": "code",
   "execution_count": null,
   "id": "c52c9e51",
   "metadata": {},
   "outputs": [],
   "source": [
    "throws = oly_medalists[oly_medalists.Event.isin(['Discus Throw Men', 'Shot Put Men', 'Hammer Throw Men','Javelin Throw Men','Discus Throw Women','Shot Put Women','Hammer Throw Women','Javelin Throw Women'])]"
   ]
  },
  {
   "cell_type": "code",
   "execution_count": null,
   "id": "1ae927a2",
   "metadata": {},
   "outputs": [],
   "source": [
    "throws.head()"
   ]
  },
  {
   "cell_type": "code",
   "execution_count": null,
   "id": "a1b25b60",
   "metadata": {},
   "outputs": [],
   "source": [
    "throws.Country.value_counts()"
   ]
  },
  {
   "cell_type": "code",
   "execution_count": null,
   "id": "8d87b0dc",
   "metadata": {},
   "outputs": [],
   "source": [
    "throws_medalists_ctry = pd.DataFrame(throws.Country.value_counts().reset_index())"
   ]
  },
  {
   "cell_type": "code",
   "execution_count": null,
   "id": "c578989f",
   "metadata": {},
   "outputs": [],
   "source": [
    "throws.head()"
   ]
  },
  {
   "cell_type": "code",
   "execution_count": null,
   "id": "cc12c6f4",
   "metadata": {},
   "outputs": [],
   "source": [
    "throws_medalists_ctry.columns = ['Country', 'Medals']"
   ]
  },
  {
   "cell_type": "code",
   "execution_count": null,
   "id": "daa47be8",
   "metadata": {},
   "outputs": [],
   "source": [
    "throws_medalists_ctry.head()"
   ]
  },
  {
   "cell_type": "code",
   "execution_count": null,
   "id": "6da083e3",
   "metadata": {},
   "outputs": [],
   "source": [
    "plt.bar(throws_medalists_ctry.Country.nlargest(5), throws_medalists_ctry.Medals)\n",
    "plt.title('Top 5 Olympic Countries for Throws')\n",
    "plt.xlabel('Counrty')\n",
    "plt.ylabel('Medals')\n",
    "plt.show()"
   ]
  },
  {
   "cell_type": "code",
   "execution_count": null,
   "id": "7c5fa33f",
   "metadata": {},
   "outputs": [],
   "source": [
    "multis = oly_medalists[oly_medalists.Event.isin(['Decathlon Men', 'Heptathlon Women'])]"
   ]
  },
  {
   "cell_type": "code",
   "execution_count": null,
   "id": "10663cbd",
   "metadata": {},
   "outputs": [],
   "source": [
    "multis.head()"
   ]
  },
  {
   "cell_type": "code",
   "execution_count": null,
   "id": "becb2e79",
   "metadata": {},
   "outputs": [],
   "source": [
    "multis.Country.value_counts()"
   ]
  },
  {
   "cell_type": "code",
   "execution_count": null,
   "id": "8bee2fe7",
   "metadata": {},
   "outputs": [],
   "source": [
    "multis_medalists_ctry = pd.DataFrame(multis.Country.value_counts().reset_index())"
   ]
  },
  {
   "cell_type": "code",
   "execution_count": null,
   "id": "b93672c8",
   "metadata": {},
   "outputs": [],
   "source": [
    "multis_medalists_ctry.head()"
   ]
  },
  {
   "cell_type": "code",
   "execution_count": null,
   "id": "74d18dfd",
   "metadata": {},
   "outputs": [],
   "source": [
    "multis_medalists_ctry.columns = ['Country', 'Medals']"
   ]
  },
  {
   "cell_type": "code",
   "execution_count": null,
   "id": "c45a6b31",
   "metadata": {},
   "outputs": [],
   "source": [
    "multis_medalists_ctry.head()"
   ]
  },
  {
   "cell_type": "code",
   "execution_count": null,
   "id": "866b8c63",
   "metadata": {},
   "outputs": [],
   "source": [
    "plt.bar(multis_medalists_ctry.Country.nlargest(5), multis_medalists_ctry.Medals)\n",
    "plt.title('Top 5 Olympic Countries for Multi-Events')\n",
    "plt.xlabel('Counrty')\n",
    "plt.ylabel('Medals')\n",
    "plt.show()"
   ]
  },
  {
   "cell_type": "code",
   "execution_count": null,
   "id": "2d6d21bd",
   "metadata": {},
   "outputs": [],
   "source": [
    "racewalk = oly_medalists[oly_medalists.Event.isin(['20Km Race Walk Men', '50Km Race Walk Men','20Km Race Walk Women'])]"
   ]
  },
  {
   "cell_type": "code",
   "execution_count": null,
   "id": "1b9a453e",
   "metadata": {},
   "outputs": [],
   "source": [
    "racewalk.head()"
   ]
  },
  {
   "cell_type": "code",
   "execution_count": null,
   "id": "5686ce15",
   "metadata": {},
   "outputs": [],
   "source": [
    "racewalk.Country.value_counts()"
   ]
  },
  {
   "cell_type": "code",
   "execution_count": null,
   "id": "769f420f",
   "metadata": {},
   "outputs": [],
   "source": [
    "racewalk_medalists_ctry = pd.DataFrame(racewalk.Country.value_counts().reset_index())"
   ]
  },
  {
   "cell_type": "code",
   "execution_count": null,
   "id": "e306fb5b",
   "metadata": {},
   "outputs": [],
   "source": [
    "racewalk_medalists_ctry.head()"
   ]
  },
  {
   "cell_type": "code",
   "execution_count": null,
   "id": "de217808",
   "metadata": {},
   "outputs": [],
   "source": [
    "racewalk_medalists_ctry.columns = ['Country', 'Medals']"
   ]
  },
  {
   "cell_type": "code",
   "execution_count": null,
   "id": "3d83bfac",
   "metadata": {},
   "outputs": [],
   "source": [
    "racewalk_medalists_ctry.head()"
   ]
  },
  {
   "cell_type": "code",
   "execution_count": null,
   "id": "71ee1866",
   "metadata": {},
   "outputs": [],
   "source": [
    "plt.bar(racewalk_medalists_ctry.Country.nlargest(5), racewalk_medalists_ctry.Medals)\n",
    "plt.title('Top 5 Olympic Countries for Racewalk')\n",
    "plt.xlabel('Counrty')\n",
    "plt.ylabel('Medals')\n",
    "plt.show()"
   ]
  },
  {
   "cell_type": "markdown",
   "id": "2d82d28d",
   "metadata": {},
   "source": [
    "Let's put thes dataframes into an excel workbook"
   ]
  },
  {
   "cell_type": "code",
   "execution_count": null,
   "id": "26c6257e",
   "metadata": {},
   "outputs": [],
   "source": [
    "#xlwriter = pd.ExcelWriter('Medals_By_Country.xlsx') \n",
    "#medalists_ctry.to_excel(xlwriter, sheet_name='Total_Medals')\n",
    "#sprint_medalists_ctry.to_excel(xlwriter, sheet_name='Sprint_Medals')\n",
    "#md_medalists_ctry.to_excel(xlwriter, sheet_name='MD_Medals')\n",
    "#distance_medalists_ctry.to_excel(xlwriter, sheet_name='Distance_Medals')\n",
    "#jumps_medalists_ctry.to_excel(xlwriter, sheet_name='Jumps_Medals')\n",
    "#throws_medalists_ctry.to_excel(xlwriter, sheet_name='Throws_Medals')\n",
    "#multis_medalists_ctry.to_excel(xlwriter, sheet_name='Multis_Medals')\n",
    "#racewalk_medalists_ctry.to_excel(xlwriter, sheet_name='Racewalk_Medals')\n",
    "#xlwriter.close()"
   ]
  }
 ],
 "metadata": {
  "kernelspec": {
   "display_name": "Python 3 (ipykernel)",
   "language": "python",
   "name": "python3"
  },
  "language_info": {
   "codemirror_mode": {
    "name": "ipython",
    "version": 3
   },
   "file_extension": ".py",
   "mimetype": "text/x-python",
   "name": "python",
   "nbconvert_exporter": "python",
   "pygments_lexer": "ipython3",
   "version": "3.9.7"
  }
 },
 "nbformat": 4,
 "nbformat_minor": 5
}
